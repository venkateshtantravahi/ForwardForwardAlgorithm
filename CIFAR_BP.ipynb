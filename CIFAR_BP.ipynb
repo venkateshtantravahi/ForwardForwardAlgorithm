{
 "cells": [
  {
   "cell_type": "code",
   "id": "initial_id",
   "metadata": {
    "collapsed": true,
    "ExecuteTime": {
     "end_time": "2024-12-07T04:49:34.125911Z",
     "start_time": "2024-12-07T04:49:32.935855Z"
    }
   },
   "source": [
    "# Import Libraries\n",
    "import torch\n",
    "import torch.nn as nn\n",
    "import torch.optim as optim\n",
    "from torchvision import datasets, transforms\n",
    "from torch.utils.data import DataLoader\n",
    "import matplotlib.pyplot as plt\n",
    "import math"
   ],
   "outputs": [],
   "execution_count": 1
  },
  {
   "metadata": {
    "ExecuteTime": {
     "end_time": "2024-12-07T04:49:34.965190Z",
     "start_time": "2024-12-07T04:49:34.959534Z"
    }
   },
   "cell_type": "code",
   "source": [
    "class ReLU_full_grad(torch.autograd.Function):\n",
    "    \"\"\" ReLU activation function that passes through the gradient irrespective of its input value. \"\"\"\n",
    "\n",
    "    @staticmethod\n",
    "    def forward(ctx, input):\n",
    "        return input.clamp(min=0)\n",
    "\n",
    "    @staticmethod\n",
    "    def backward(ctx, grad_output):\n",
    "        return grad_output.clone()\n",
    "\n",
    "\n",
    "class TDistributionActivation(torch.autograd.Function):\n",
    "    \"\"\"Custom activation function based on the negative log of the density under a t-distribution.\"\"\"\n",
    "\n",
    "    @staticmethod\n",
    "    def forward(ctx, input, nu=10):\n",
    "        \"\"\"\n",
    "        Forward pass of the t-distribution-based activation function.\n",
    "        Args:\n",
    "            input: Input tensor.\n",
    "            nu: Degrees of freedom for the t-distribution (default: 10).\n",
    "        Returns:\n",
    "            Tensor after applying the activation function.\n",
    "        \"\"\"\n",
    "        ctx.nu = nu\n",
    "        # precompute constants\n",
    "        constant_term = (\n",
    "            math.log(math.sqrt(nu * math.pi)) +\n",
    "            torch.lgamma(torch.tensor(nu / 2.0)) -\n",
    "            torch.lgamma(torch.tensor(nu + 1.0) / 2.0)\n",
    "        )\n",
    "        # compute activation\n",
    "        activation = constant_term + ((nu + 1) / 2.0) * torch.log(1 + (input ** 2) / nu)\n",
    "        ctx.save_for_backward(input)\n",
    "        return activation\n",
    "\n",
    "    @staticmethod\n",
    "    def backward(ctx, grad_output):\n",
    "        \"\"\"\n",
    "        Backward pass of the activation function.\n",
    "        Args:\n",
    "            grad_output: Gradient of the loss with respect to the output.\n",
    "        Returns:\n",
    "            Gradient of the loss with respect to the input.\n",
    "        \"\"\"\n",
    "        input, = ctx.saved_tensors\n",
    "        nu = ctx.nu\n",
    "\n",
    "        # Compute the gradient\n",
    "        grad_input = grad_output * ((nu + 1) * input) / (nu + input ** 2)\n",
    "        return grad_input, None  # Return None for `nu` since it's not trainable\n"
   ],
   "id": "ff9bbf44f72e4a98",
   "outputs": [],
   "execution_count": 2
  },
  {
   "metadata": {
    "ExecuteTime": {
     "end_time": "2024-12-07T04:49:36.093243Z",
     "start_time": "2024-12-07T04:49:36.087414Z"
    }
   },
   "cell_type": "code",
   "source": [
    "# Define the Backpropagation Model\n",
    "class BPModel(nn.Module):\n",
    "    def __init__(self, input_dim=3072, hidden_dim=1000, num_layers=3, activation=\"relu\", num_classes=10):\n",
    "        super(BPModel, self).__init__()\n",
    "\n",
    "        # Dynamically select activation function\n",
    "        if activation == \"relu\":\n",
    "            self.act_fn = nn.ReLU()\n",
    "        elif activation == \"leaky_relu\":\n",
    "            self.act_fn = nn.LeakyReLU(negative_slope=0.01)\n",
    "        elif activation == \"sigmoid\":\n",
    "            self.act_fn = nn.Sigmoid()\n",
    "        elif activation == \"tanh\":\n",
    "            self.act_fn = nn.Tanh()\n",
    "        elif activation == \"relu_full_grad\":\n",
    "            self.act_fn = ReLU_full_grad()\n",
    "        elif activation == \"t_distribution_activation\":\n",
    "            self.act_fn = TDistributionActivation()\n",
    "        else:\n",
    "            raise ValueError(f\"Unknown activation function: {activation}\")\n",
    "\n",
    "        # Define network architecture\n",
    "        self.layers = nn.ModuleList([nn.Linear(input_dim, hidden_dim)])\n",
    "        for _ in range(1, num_layers):\n",
    "            self.layers.append(nn.Linear(hidden_dim, hidden_dim))\n",
    "        self.classifier = nn.Linear(hidden_dim, num_classes)\n",
    "\n",
    "    def forward(self, x):\n",
    "        x = x.view(x.size(0), -1)  # Flatten input for linear layers\n",
    "        for layer in self.layers:\n",
    "            if isinstance(self.act_fn, torch.autograd.Function):\n",
    "                x = self.act_fn.apply(layer(x))\n",
    "            else:\n",
    "                x = self.act_fn(layer(x))\n",
    "        return self.classifier(x)"
   ],
   "id": "35319f8eb90857c6",
   "outputs": [],
   "execution_count": 3
  },
  {
   "metadata": {
    "ExecuteTime": {
     "end_time": "2024-12-07T04:49:37.621372Z",
     "start_time": "2024-12-07T04:49:37.617236Z"
    }
   },
   "cell_type": "code",
   "source": [
    "# Training Function\n",
    "def train_model(model, train_loader, optimizer, criterion, device):\n",
    "    model.train()\n",
    "    total_loss = 0\n",
    "    correct = 0\n",
    "    total = 0\n",
    "\n",
    "    for images, labels in train_loader:\n",
    "        images, labels = images.to(device), labels.to(device)\n",
    "\n",
    "        # Forward pass\n",
    "        outputs = model(images)\n",
    "        loss = criterion(outputs, labels)\n",
    "\n",
    "        # Backward pass\n",
    "        optimizer.zero_grad()\n",
    "        loss.backward()\n",
    "        optimizer.step()\n",
    "\n",
    "        # Metrics\n",
    "        total_loss += loss.item()\n",
    "        _, preds = torch.max(outputs, 1)\n",
    "        correct += (preds == labels).sum().item()\n",
    "        total += labels.size(0)\n",
    "\n",
    "    accuracy = correct / total\n",
    "    return total_loss / len(train_loader), accuracy"
   ],
   "id": "8e2906d7b89862d",
   "outputs": [],
   "execution_count": 4
  },
  {
   "metadata": {
    "ExecuteTime": {
     "end_time": "2024-12-07T04:49:39.313081Z",
     "start_time": "2024-12-07T04:49:39.309022Z"
    }
   },
   "cell_type": "code",
   "source": [
    "# Validation Function\n",
    "def validate_model(model, test_loader, criterion, device):\n",
    "    model.eval()\n",
    "    total_loss = 0\n",
    "    correct = 0\n",
    "    total = 0\n",
    "\n",
    "    with torch.no_grad():\n",
    "        for images, labels in test_loader:\n",
    "            images, labels = images.to(device), labels.to(device)\n",
    "\n",
    "            # Forward pass\n",
    "            outputs = model(images)\n",
    "            loss = criterion(outputs, labels)\n",
    "\n",
    "            # Metrics\n",
    "            total_loss += loss.item()\n",
    "            _, preds = torch.max(outputs, 1)\n",
    "            correct += (preds == labels).sum().item()\n",
    "            total += labels.size(0)\n",
    "\n",
    "    accuracy = correct / total\n",
    "    return total_loss / len(test_loader), accuracy\n",
    "\n",
    "\n"
   ],
   "id": "f82d27996bb8470c",
   "outputs": [],
   "execution_count": 5
  },
  {
   "metadata": {
    "ExecuteTime": {
     "end_time": "2024-12-07T05:11:20.305060Z",
     "start_time": "2024-12-07T05:11:20.295966Z"
    }
   },
   "cell_type": "code",
   "source": [
    "# Main Function to Train and Evaluate with Different Activations\n",
    "def run_experiment(activations, num_epochs=10, batch_size=128, hidden_dim=1000, num_layers=3, learning_rate=0.01):\n",
    "    results = []\n",
    "\n",
    "    # CIFAR-10 Data\n",
    "    transform = transforms.Compose([\n",
    "        transforms.ToTensor(),\n",
    "        transforms.Normalize((0.4914, 0.4822, 0.4465), (0.247, 0.243, 0.261)),\n",
    "    ])\n",
    "    train_dataset = datasets.CIFAR10(root=\"./datasets\", train=True, transform=transform, download=True)\n",
    "    val_dataset = datasets.CIFAR10(root=\"./datasets\", train=False, transform=transform, download=True)  # For validation\n",
    "    test_dataset = datasets.CIFAR10(root=\"./datasets\", train=False, transform=transform, download=True)  # For test\n",
    "    \n",
    "    train_loader = DataLoader(train_dataset, batch_size=batch_size, shuffle=True)\n",
    "    val_loader = DataLoader(val_dataset, batch_size=batch_size, shuffle=False)\n",
    "    test_loader = DataLoader(test_dataset, batch_size=batch_size, shuffle=False)\n",
    "\n",
    "    device = torch.device(\"cuda\" if torch.cuda.is_available() else \"cpu\")\n",
    "\n",
    "    for activation in activations:\n",
    "        print(f\"Running experiment with activation: {activation}\")\n",
    "        model = BPModel(hidden_dim=hidden_dim, num_layers=num_layers, activation=activation).to(device)\n",
    "        criterion = nn.CrossEntropyLoss()\n",
    "        optimizer = optim.SGD(model.parameters(), lr=learning_rate, momentum=0.9, weight_decay=3e-4)\n",
    "\n",
    "        train_losses, val_losses, test_losses = [], [], []\n",
    "        train_accuracies, val_accuracies, test_accuracies = [], [], []\n",
    "\n",
    "        for epoch in range(1, num_epochs + 1):\n",
    "            train_loss, train_acc = train_model(model, train_loader, optimizer, criterion, device)\n",
    "            train_losses.append(train_loss)\n",
    "            train_accuracies.append(train_acc)\n",
    "            \n",
    "            val_loss, val_acc = validate_model(model, test_loader, criterion, device)\n",
    "            val_losses.append(val_loss)\n",
    "            val_accuracies.append(val_acc)\n",
    "            \n",
    "\n",
    "            print(f\"Epoch {epoch}/{num_epochs} - Train Loss: {train_loss:.4f}, Train Acc: {train_acc:.4f}, \"\n",
    "                  f\"val_Loss: {val_loss:.4f}, val_Acc: {val_acc:.4f}\")\n",
    "        \n",
    "        \n",
    "        \n",
    "        test_loss, test_acc = validate_model(model, test_loader, criterion, device)\n",
    "        test_losses.append(test_loss)\n",
    "        test_accuracies.append(test_acc)\n",
    "        print(f\"validation_loss: {sum(val_losses)/len(val_losses):.4f}, {sum(val_accuracies)/len(val_accuracies):.4f}\")\n",
    "        print(f\"Final Test Metrics for activation {activation} - Test Loss: {test_loss:.4f}, Test Accuracy: {test_acc:.4f}\")\n",
    "\n",
    "        \n",
    "        \n",
    "        results.append({\n",
    "            \"activation\": activation,\n",
    "            \"train_losses\": train_losses,\n",
    "            \"val_losses\": val_losses,\n",
    "            \"test_losses\": test_losses,\n",
    "            \"train_accuracies\": train_accuracies,\n",
    "            \"val_accuracies\": val_accuracies,\n",
    "            \"test_accuracies\": test_accuracies\n",
    "        })\n",
    "\n",
    "    return results\n"
   ],
   "id": "71cfbb2bf8e9e4b6",
   "outputs": [],
   "execution_count": 14
  },
  {
   "metadata": {
    "ExecuteTime": {
     "end_time": "2024-12-07T05:11:20.893664Z",
     "start_time": "2024-12-07T05:11:20.888727Z"
    }
   },
   "cell_type": "code",
   "source": [
    "# # Plot Results\n",
    "# def plot_results(results):\n",
    "#     for result in results:\n",
    "#         activation = result[\"activation\"]\n",
    "# \n",
    "#         # Plot Loss\n",
    "#         plt.figure()\n",
    "#         plt.plot(result[\"train_losses\"], label=\"Train Loss\")\n",
    "#         plt.plot(result[\"val_losses\"], label=\"Val Loss\")\n",
    "#         plt.title(f\"Loss vs Epochs ({activation})\")\n",
    "#         plt.xlabel(\"Epochs\")\n",
    "#         plt.ylabel(\"Loss\")\n",
    "#         plt.legend()\n",
    "#         plt.show()\n",
    "# \n",
    "#         # Plot Accuracy\n",
    "#         plt.figure()\n",
    "#         plt.plot(result[\"train_accuracies\"], label=\"Train Accuracy\")\n",
    "#         plt.plot(result[\"val_accuracies\"], label=\"Val Accuracy\")\n",
    "#         plt.title(f\"Accuracy vs Epochs ({activation})\")\n",
    "#         plt.xlabel(\"Epochs\")\n",
    "#         plt.ylabel(\"Accuracy\")\n",
    "#         plt.legend()\n",
    "#         plt.show()\n",
    "import plotly.graph_objects as go\n",
    "\n",
    "def plot_results(results):\n",
    "    \"\"\"\n",
    "    Generate interactive plots for loss and accuracy using Plotly.\n",
    "    \n",
    "    Args:\n",
    "    - results: List of dictionaries containing results for each experiment.\n",
    "               Each dictionary should have \"activation\", \"train_losses\", \"val_losses\",\n",
    "               \"train_accuracies\", and \"val_accuracies\" keys.\n",
    "    \"\"\"\n",
    "    # Loss Plot\n",
    "    loss_fig = go.Figure()\n",
    "    for result in results:\n",
    "        activation = result[\"activation\"]\n",
    "        \n",
    "        loss_fig.add_trace(\n",
    "            go.Scatter(\n",
    "                x=list(range(len(result[\"train_losses\"]))),\n",
    "                y=result[\"train_losses\"],\n",
    "                mode=\"lines\",\n",
    "                name=f\"{activation} - Train Loss\"\n",
    "            )\n",
    "        )\n",
    "        loss_fig.add_trace(\n",
    "            go.Scatter(\n",
    "                x=list(range(len(result[\"val_losses\"]))),\n",
    "                y=result[\"val_losses\"],\n",
    "                mode=\"lines\",\n",
    "                name=f\"{activation} - Val Loss\"\n",
    "            )\n",
    "        )\n",
    "    \n",
    "    loss_fig.update_layout(\n",
    "        title=\"Loss vs Epochs\",\n",
    "        xaxis_title=\"Epochs\",\n",
    "        yaxis_title=\"Loss\",\n",
    "        legend_title=\"Legend\",\n",
    "        template=\"plotly_dark\"  # Optional: Use a dark theme for aesthetics\n",
    "    )\n",
    "    loss_fig.show()\n",
    "\n",
    "    # Accuracy Plot\n",
    "    accuracy_fig = go.Figure()\n",
    "    for result in results:\n",
    "        activation = result[\"activation\"]\n",
    "        \n",
    "        accuracy_fig.add_trace(\n",
    "            go.Scatter(\n",
    "                x=list(range(len(result[\"train_accuracies\"]))),\n",
    "                y=result[\"train_accuracies\"],\n",
    "                mode=\"lines+markers\",\n",
    "                name=f\"{activation} - Train Accuracy\"\n",
    "            )\n",
    "        )\n",
    "        accuracy_fig.add_trace(\n",
    "            go.Scatter(\n",
    "                x=list(range(len(result[\"val_accuracies\"]))),\n",
    "                y=result[\"val_accuracies\"],\n",
    "                mode=\"lines+markers\",\n",
    "                name=f\"{activation} - Val Accuracy\"\n",
    "            )\n",
    "        )\n",
    "    \n",
    "    accuracy_fig.update_layout(\n",
    "        title=\"Accuracy vs Epochs\",\n",
    "        xaxis_title=\"Epochs\",\n",
    "        yaxis_title=\"Accuracy\",\n",
    "        legend_title=\"Legend\",\n",
    "        template=\"plotly_dark\"  # Optional: Use a clean white theme\n",
    "    )\n",
    "    accuracy_fig.show()\n"
   ],
   "id": "7b0de8922fcebc97",
   "outputs": [],
   "execution_count": 15
  },
  {
   "metadata": {
    "ExecuteTime": {
     "end_time": "2024-12-07T05:25:34.874609Z",
     "start_time": "2024-12-07T05:11:21.920573Z"
    }
   },
   "cell_type": "code",
   "source": [
    "# Run Experiments\n",
    "activations_to_test = [\"relu\", \"leaky_relu\", \"sigmoid\", \"tanh\",\"relu_full_grad\", \"t_distribution_activation\"]\n",
    "experiment_results = run_experiment(activations=activations_to_test, num_epochs=20)\n"
   ],
   "id": "211a09a89088cb31",
   "outputs": [
    {
     "name": "stdout",
     "output_type": "stream",
     "text": [
      "Files already downloaded and verified\n",
      "Files already downloaded and verified\n",
      "Files already downloaded and verified\n",
      "Running experiment with activation: relu\n",
      "Epoch 1/20 - Train Loss: 1.7467, Train Acc: 0.3803, val_Loss: 1.5189, val_Acc: 0.4627\n",
      "Epoch 2/20 - Train Loss: 1.4491, Train Acc: 0.4877, val_Loss: 1.4096, val_Acc: 0.5052\n",
      "Epoch 3/20 - Train Loss: 1.3171, Train Acc: 0.5382, val_Loss: 1.3487, val_Acc: 0.5225\n",
      "Epoch 4/20 - Train Loss: 1.2205, Train Acc: 0.5714, val_Loss: 1.3441, val_Acc: 0.5228\n",
      "Epoch 5/20 - Train Loss: 1.1260, Train Acc: 0.6047, val_Loss: 1.3009, val_Acc: 0.5408\n",
      "Epoch 6/20 - Train Loss: 1.0495, Train Acc: 0.6294, val_Loss: 1.3038, val_Acc: 0.5437\n",
      "Epoch 7/20 - Train Loss: 0.9664, Train Acc: 0.6581, val_Loss: 1.3395, val_Acc: 0.5395\n",
      "Epoch 8/20 - Train Loss: 0.8923, Train Acc: 0.6851, val_Loss: 1.3944, val_Acc: 0.5421\n",
      "Epoch 9/20 - Train Loss: 0.8194, Train Acc: 0.7116, val_Loss: 1.3243, val_Acc: 0.5556\n",
      "Epoch 10/20 - Train Loss: 0.7373, Train Acc: 0.7402, val_Loss: 1.4025, val_Acc: 0.5464\n",
      "Epoch 11/20 - Train Loss: 0.6745, Train Acc: 0.7627, val_Loss: 1.4348, val_Acc: 0.5447\n",
      "Epoch 12/20 - Train Loss: 0.5997, Train Acc: 0.7892, val_Loss: 1.5597, val_Acc: 0.5404\n",
      "Epoch 13/20 - Train Loss: 0.5368, Train Acc: 0.8109, val_Loss: 1.5580, val_Acc: 0.5586\n",
      "Epoch 14/20 - Train Loss: 0.4797, Train Acc: 0.8311, val_Loss: 1.6566, val_Acc: 0.5586\n",
      "Epoch 15/20 - Train Loss: 0.4237, Train Acc: 0.8504, val_Loss: 1.7069, val_Acc: 0.5555\n",
      "Epoch 16/20 - Train Loss: 0.3684, Train Acc: 0.8702, val_Loss: 1.7753, val_Acc: 0.5562\n",
      "Epoch 17/20 - Train Loss: 0.3217, Train Acc: 0.8861, val_Loss: 1.9588, val_Acc: 0.5456\n",
      "Epoch 18/20 - Train Loss: 0.3061, Train Acc: 0.8922, val_Loss: 2.0712, val_Acc: 0.5434\n",
      "Epoch 19/20 - Train Loss: 0.2839, Train Acc: 0.9014, val_Loss: 2.0488, val_Acc: 0.5614\n",
      "Epoch 20/20 - Train Loss: 0.2343, Train Acc: 0.9182, val_Loss: 2.1139, val_Acc: 0.5511\n",
      "validation_loss: 1.5785, 0.5398\n",
      "Final Test Metrics for activation relu - Test Loss: 2.1139, Test Accuracy: 0.5511\n",
      "Running experiment with activation: leaky_relu\n",
      "Epoch 1/20 - Train Loss: 1.7554, Train Acc: 0.3747, val_Loss: 1.5672, val_Acc: 0.4402\n",
      "Epoch 2/20 - Train Loss: 1.4518, Train Acc: 0.4868, val_Loss: 1.4183, val_Acc: 0.4972\n",
      "Epoch 3/20 - Train Loss: 1.3243, Train Acc: 0.5331, val_Loss: 1.4206, val_Acc: 0.4968\n",
      "Epoch 4/20 - Train Loss: 1.2211, Train Acc: 0.5705, val_Loss: 1.3340, val_Acc: 0.5302\n",
      "Epoch 5/20 - Train Loss: 1.1349, Train Acc: 0.6016, val_Loss: 1.3159, val_Acc: 0.5332\n",
      "Epoch 6/20 - Train Loss: 1.0539, Train Acc: 0.6292, val_Loss: 1.2867, val_Acc: 0.5532\n",
      "Epoch 7/20 - Train Loss: 0.9763, Train Acc: 0.6557, val_Loss: 1.3139, val_Acc: 0.5379\n",
      "Epoch 8/20 - Train Loss: 0.9025, Train Acc: 0.6801, val_Loss: 1.3567, val_Acc: 0.5500\n",
      "Epoch 9/20 - Train Loss: 0.8297, Train Acc: 0.7079, val_Loss: 1.3931, val_Acc: 0.5450\n",
      "Epoch 10/20 - Train Loss: 0.7562, Train Acc: 0.7336, val_Loss: 1.3953, val_Acc: 0.5472\n",
      "Epoch 11/20 - Train Loss: 0.6840, Train Acc: 0.7594, val_Loss: 1.4879, val_Acc: 0.5454\n",
      "Epoch 12/20 - Train Loss: 0.6145, Train Acc: 0.7838, val_Loss: 1.5049, val_Acc: 0.5520\n",
      "Epoch 13/20 - Train Loss: 0.5469, Train Acc: 0.8065, val_Loss: 1.5713, val_Acc: 0.5545\n",
      "Epoch 14/20 - Train Loss: 0.4921, Train Acc: 0.8262, val_Loss: 1.6731, val_Acc: 0.5518\n",
      "Epoch 15/20 - Train Loss: 0.4410, Train Acc: 0.8452, val_Loss: 1.6199, val_Acc: 0.5553\n",
      "Epoch 16/20 - Train Loss: 0.3955, Train Acc: 0.8622, val_Loss: 1.8449, val_Acc: 0.5436\n",
      "Epoch 17/20 - Train Loss: 0.3385, Train Acc: 0.8809, val_Loss: 1.8885, val_Acc: 0.5518\n",
      "Epoch 18/20 - Train Loss: 0.2988, Train Acc: 0.8953, val_Loss: 1.9711, val_Acc: 0.5500\n",
      "Epoch 19/20 - Train Loss: 0.2691, Train Acc: 0.9049, val_Loss: 2.0824, val_Acc: 0.5485\n",
      "Epoch 20/20 - Train Loss: 0.2460, Train Acc: 0.9132, val_Loss: 2.0517, val_Acc: 0.5545\n",
      "validation_loss: 1.5749, 0.5369\n",
      "Final Test Metrics for activation leaky_relu - Test Loss: 2.0517, Test Accuracy: 0.5545\n",
      "Running experiment with activation: sigmoid\n",
      "Epoch 1/20 - Train Loss: 2.3278, Train Acc: 0.1055, val_Loss: 2.2808, val_Acc: 0.1469\n",
      "Epoch 2/20 - Train Loss: 2.1600, Train Acc: 0.1715, val_Loss: 2.0541, val_Acc: 0.2136\n",
      "Epoch 3/20 - Train Loss: 2.0313, Train Acc: 0.2247, val_Loss: 1.9772, val_Acc: 0.2621\n",
      "Epoch 4/20 - Train Loss: 1.9565, Train Acc: 0.2618, val_Loss: 1.9143, val_Acc: 0.2806\n",
      "Epoch 5/20 - Train Loss: 1.9113, Train Acc: 0.2884, val_Loss: 1.8839, val_Acc: 0.3117\n",
      "Epoch 6/20 - Train Loss: 1.8785, Train Acc: 0.3096, val_Loss: 1.8544, val_Acc: 0.3218\n",
      "Epoch 7/20 - Train Loss: 1.8489, Train Acc: 0.3240, val_Loss: 1.8246, val_Acc: 0.3362\n",
      "Epoch 8/20 - Train Loss: 1.8203, Train Acc: 0.3372, val_Loss: 1.8090, val_Acc: 0.3423\n",
      "Epoch 9/20 - Train Loss: 1.8016, Train Acc: 0.3433, val_Loss: 1.7883, val_Acc: 0.3482\n",
      "Epoch 10/20 - Train Loss: 1.7838, Train Acc: 0.3521, val_Loss: 1.7903, val_Acc: 0.3435\n",
      "Epoch 11/20 - Train Loss: 1.7624, Train Acc: 0.3625, val_Loss: 1.7715, val_Acc: 0.3548\n",
      "Epoch 12/20 - Train Loss: 1.7435, Train Acc: 0.3700, val_Loss: 1.7411, val_Acc: 0.3725\n",
      "Epoch 13/20 - Train Loss: 1.7251, Train Acc: 0.3760, val_Loss: 1.7148, val_Acc: 0.3843\n",
      "Epoch 14/20 - Train Loss: 1.7072, Train Acc: 0.3823, val_Loss: 1.7057, val_Acc: 0.3858\n",
      "Epoch 15/20 - Train Loss: 1.6844, Train Acc: 0.3936, val_Loss: 1.6961, val_Acc: 0.3901\n",
      "Epoch 16/20 - Train Loss: 1.6640, Train Acc: 0.3987, val_Loss: 1.6887, val_Acc: 0.3901\n",
      "Epoch 17/20 - Train Loss: 1.6425, Train Acc: 0.4066, val_Loss: 1.6450, val_Acc: 0.4104\n",
      "Epoch 18/20 - Train Loss: 1.6193, Train Acc: 0.4196, val_Loss: 1.6448, val_Acc: 0.4105\n",
      "Epoch 19/20 - Train Loss: 1.5980, Train Acc: 0.4250, val_Loss: 1.6152, val_Acc: 0.4186\n",
      "Epoch 20/20 - Train Loss: 1.5739, Train Acc: 0.4342, val_Loss: 1.6037, val_Acc: 0.4299\n",
      "validation_loss: 1.8002, 0.3427\n",
      "Final Test Metrics for activation sigmoid - Test Loss: 1.6037, Test Accuracy: 0.4299\n",
      "Running experiment with activation: tanh\n",
      "Epoch 1/20 - Train Loss: 1.7900, Train Acc: 0.3719, val_Loss: 1.7081, val_Acc: 0.4061\n",
      "Epoch 2/20 - Train Loss: 1.6386, Train Acc: 0.4331, val_Loss: 1.6180, val_Acc: 0.4312\n",
      "Epoch 3/20 - Train Loss: 1.5544, Train Acc: 0.4634, val_Loss: 1.5885, val_Acc: 0.4511\n",
      "Epoch 4/20 - Train Loss: 1.4808, Train Acc: 0.4896, val_Loss: 1.5470, val_Acc: 0.4694\n",
      "Epoch 5/20 - Train Loss: 1.4113, Train Acc: 0.5160, val_Loss: 1.5523, val_Acc: 0.4651\n",
      "Epoch 6/20 - Train Loss: 1.3398, Train Acc: 0.5395, val_Loss: 1.5754, val_Acc: 0.4710\n",
      "Epoch 7/20 - Train Loss: 1.2650, Train Acc: 0.5658, val_Loss: 1.5469, val_Acc: 0.4777\n",
      "Epoch 8/20 - Train Loss: 1.1945, Train Acc: 0.5886, val_Loss: 1.5464, val_Acc: 0.4845\n",
      "Epoch 9/20 - Train Loss: 1.1222, Train Acc: 0.6127, val_Loss: 1.5343, val_Acc: 0.4933\n",
      "Epoch 10/20 - Train Loss: 1.0312, Train Acc: 0.6429, val_Loss: 1.6383, val_Acc: 0.4803\n",
      "Epoch 11/20 - Train Loss: 0.9638, Train Acc: 0.6658, val_Loss: 1.6424, val_Acc: 0.4785\n",
      "Epoch 12/20 - Train Loss: 0.8841, Train Acc: 0.6923, val_Loss: 1.6787, val_Acc: 0.4873\n",
      "Epoch 13/20 - Train Loss: 0.8133, Train Acc: 0.7204, val_Loss: 1.7834, val_Acc: 0.4749\n",
      "Epoch 14/20 - Train Loss: 0.7436, Train Acc: 0.7431, val_Loss: 1.7987, val_Acc: 0.4804\n",
      "Epoch 15/20 - Train Loss: 0.6776, Train Acc: 0.7658, val_Loss: 1.8730, val_Acc: 0.4790\n",
      "Epoch 16/20 - Train Loss: 0.6156, Train Acc: 0.7864, val_Loss: 2.0487, val_Acc: 0.4711\n",
      "Epoch 17/20 - Train Loss: 0.5584, Train Acc: 0.8084, val_Loss: 2.0787, val_Acc: 0.4804\n",
      "Epoch 18/20 - Train Loss: 0.5141, Train Acc: 0.8229, val_Loss: 2.1363, val_Acc: 0.4806\n",
      "Epoch 19/20 - Train Loss: 0.4444, Train Acc: 0.8463, val_Loss: 2.2728, val_Acc: 0.4726\n",
      "Epoch 20/20 - Train Loss: 0.4135, Train Acc: 0.8590, val_Loss: 2.3569, val_Acc: 0.4719\n",
      "validation_loss: 1.7762, 0.4703\n",
      "Final Test Metrics for activation tanh - Test Loss: 2.3569, Test Accuracy: 0.4719\n",
      "Running experiment with activation: relu_full_grad\n"
     ]
    },
    {
     "name": "stderr",
     "output_type": "stream",
     "text": [
      "/var/folders/bd/00w241j10gq6453q5ywwnktm0000gn/T/ipykernel_50469/654927597.py:16: DeprecationWarning: <class '__main__.ReLU_full_grad'> should not be instantiated. Methods on autograd functionsare all static, so you should invoke them on the class itself. Instantiating an autograd function will raise an error in a future version of PyTorch.\n",
      "  self.act_fn = ReLU_full_grad()\n"
     ]
    },
    {
     "name": "stdout",
     "output_type": "stream",
     "text": [
      "Epoch 1/20 - Train Loss: 1.8228, Train Acc: 0.3540, val_Loss: 1.7186, val_Acc: 0.3988\n",
      "Epoch 2/20 - Train Loss: 1.7168, Train Acc: 0.3975, val_Loss: 1.6829, val_Acc: 0.4077\n",
      "Epoch 3/20 - Train Loss: 1.7038, Train Acc: 0.4049, val_Loss: 1.7242, val_Acc: 0.4038\n",
      "Epoch 4/20 - Train Loss: nan, Train Acc: 0.2363, val_Loss: nan, val_Acc: 0.1000\n",
      "Epoch 5/20 - Train Loss: nan, Train Acc: 0.1000, val_Loss: nan, val_Acc: 0.1000\n",
      "Epoch 6/20 - Train Loss: nan, Train Acc: 0.1000, val_Loss: nan, val_Acc: 0.1000\n",
      "Epoch 7/20 - Train Loss: nan, Train Acc: 0.1000, val_Loss: nan, val_Acc: 0.1000\n",
      "Epoch 8/20 - Train Loss: nan, Train Acc: 0.1000, val_Loss: nan, val_Acc: 0.1000\n",
      "Epoch 9/20 - Train Loss: nan, Train Acc: 0.1000, val_Loss: nan, val_Acc: 0.1000\n",
      "Epoch 10/20 - Train Loss: nan, Train Acc: 0.1000, val_Loss: nan, val_Acc: 0.1000\n",
      "Epoch 11/20 - Train Loss: nan, Train Acc: 0.1000, val_Loss: nan, val_Acc: 0.1000\n",
      "Epoch 12/20 - Train Loss: nan, Train Acc: 0.1000, val_Loss: nan, val_Acc: 0.1000\n",
      "Epoch 13/20 - Train Loss: nan, Train Acc: 0.1000, val_Loss: nan, val_Acc: 0.1000\n",
      "Epoch 14/20 - Train Loss: nan, Train Acc: 0.1000, val_Loss: nan, val_Acc: 0.1000\n",
      "Epoch 15/20 - Train Loss: nan, Train Acc: 0.1000, val_Loss: nan, val_Acc: 0.1000\n",
      "Epoch 16/20 - Train Loss: nan, Train Acc: 0.1000, val_Loss: nan, val_Acc: 0.1000\n",
      "Epoch 17/20 - Train Loss: nan, Train Acc: 0.1000, val_Loss: nan, val_Acc: 0.1000\n",
      "Epoch 18/20 - Train Loss: nan, Train Acc: 0.1000, val_Loss: nan, val_Acc: 0.1000\n",
      "Epoch 19/20 - Train Loss: nan, Train Acc: 0.1000, val_Loss: nan, val_Acc: 0.1000\n",
      "Epoch 20/20 - Train Loss: nan, Train Acc: 0.1000, val_Loss: nan, val_Acc: 0.1000\n",
      "validation_loss: nan, 0.1455\n",
      "Final Test Metrics for activation relu_full_grad - Test Loss: nan, Test Accuracy: 0.1000\n",
      "Running experiment with activation: t_distribution_activation\n"
     ]
    },
    {
     "name": "stderr",
     "output_type": "stream",
     "text": [
      "/var/folders/bd/00w241j10gq6453q5ywwnktm0000gn/T/ipykernel_50469/654927597.py:18: DeprecationWarning: <class '__main__.TDistributionActivation'> should not be instantiated. Methods on autograd functionsare all static, so you should invoke them on the class itself. Instantiating an autograd function will raise an error in a future version of PyTorch.\n",
      "  self.act_fn = TDistributionActivation()\n"
     ]
    },
    {
     "name": "stdout",
     "output_type": "stream",
     "text": [
      "Epoch 1/20 - Train Loss: 2.3644, Train Acc: 0.1866, val_Loss: 2.4759, val_Acc: 0.2411\n",
      "Epoch 2/20 - Train Loss: 2.0202, Train Acc: 0.3178, val_Loss: 2.2369, val_Acc: 0.3190\n",
      "Epoch 3/20 - Train Loss: 1.8375, Train Acc: 0.3887, val_Loss: 2.0409, val_Acc: 0.3252\n",
      "Epoch 4/20 - Train Loss: 1.7217, Train Acc: 0.4332, val_Loss: 1.8130, val_Acc: 0.4195\n",
      "Epoch 5/20 - Train Loss: 1.5958, Train Acc: 0.4747, val_Loss: 2.0049, val_Acc: 0.4698\n",
      "Epoch 6/20 - Train Loss: 1.6102, Train Acc: 0.4964, val_Loss: 1.8420, val_Acc: 0.4296\n",
      "Epoch 7/20 - Train Loss: 1.4602, Train Acc: 0.5251, val_Loss: 1.7307, val_Acc: 0.4883\n",
      "Epoch 8/20 - Train Loss: 1.5148, Train Acc: 0.5294, val_Loss: 1.8387, val_Acc: 0.4768\n",
      "Epoch 9/20 - Train Loss: 25406.0761, Train Acc: 0.4040, val_Loss: 167326.5376, val_Acc: 0.1000\n",
      "Epoch 10/20 - Train Loss: 174741.3698, Train Acc: 0.1001, val_Loss: 151685.5094, val_Acc: 0.1000\n",
      "Epoch 11/20 - Train Loss: 213352.1545, Train Acc: 0.0994, val_Loss: 196386.1637, val_Acc: 0.1000\n",
      "Epoch 12/20 - Train Loss: 227968.8375, Train Acc: 0.0985, val_Loss: 301464.7516, val_Acc: 0.1000\n",
      "Epoch 13/20 - Train Loss: 234421.3934, Train Acc: 0.0996, val_Loss: 173864.5928, val_Acc: 0.1000\n",
      "Epoch 14/20 - Train Loss: 239233.2216, Train Acc: 0.1026, val_Loss: 175952.7037, val_Acc: 0.1000\n",
      "Epoch 15/20 - Train Loss: 251989.8485, Train Acc: 0.0992, val_Loss: 275894.3896, val_Acc: 0.1000\n",
      "Epoch 16/20 - Train Loss: 214819.7106, Train Acc: 0.1015, val_Loss: 116103.5338, val_Acc: 0.1000\n",
      "Epoch 17/20 - Train Loss: 225040.5502, Train Acc: 0.1003, val_Loss: 267593.3271, val_Acc: 0.1000\n",
      "Epoch 18/20 - Train Loss: 243037.2421, Train Acc: 0.1012, val_Loss: 340289.9150, val_Acc: 0.1000\n",
      "Epoch 19/20 - Train Loss: 215295.9827, Train Acc: 0.0996, val_Loss: 155978.9277, val_Acc: 0.1000\n",
      "Epoch 20/20 - Train Loss: 256403.0968, Train Acc: 0.1027, val_Loss: 268517.5202, val_Acc: 0.1000\n",
      "validation_loss: 129553.6928, 0.2185\n",
      "Final Test Metrics for activation t_distribution_activation - Test Loss: 268517.5202, Test Accuracy: 0.1000\n"
     ]
    }
   ],
   "execution_count": 16
  },
  {
   "metadata": {
    "ExecuteTime": {
     "end_time": "2024-12-07T05:05:03.969165Z",
     "start_time": "2024-12-07T05:05:03.952442Z"
    }
   },
   "cell_type": "code",
   "source": [
    "import pandas as pd\n",
    "experiment_results = pd.DataFrame(experiment_results)\n",
    "experiment_results.head()"
   ],
   "id": "bf81b1c73efb6215",
   "outputs": [
    {
     "data": {
      "text/plain": [
       "       activation                                       train_losses  \\\n",
       "0            relu  [1.754270024311817, 1.449570551857619, 1.32029...   \n",
       "1      leaky_relu  [1.7521490761081275, 1.4504411052864836, 1.318...   \n",
       "2         sigmoid  [2.3350579305682952, 2.1570179450237537, 2.045...   \n",
       "3            tanh  [1.7889854737254969, 1.6404871141819088, 1.555...   \n",
       "4  relu_full_grad  [1.8257401355392182, 1.7182722997177593, 1.708...   \n",
       "\n",
       "                                          val_losses test_losses  \\\n",
       "0  [1.5562874757790868, 1.4024028566819202, 1.373...          []   \n",
       "1  [1.5506830562519123, 1.4220768032194693, 1.356...          []   \n",
       "2  [2.2905006710487075, 2.086325692225106, 1.9975...          []   \n",
       "3  [1.6941428561753864, 1.6255174347116976, 1.590...          []   \n",
       "4  [1.7612814661822742, 1.6772233806078947, 1.734...          []   \n",
       "\n",
       "                                    train_accuracies  \\\n",
       "0  [0.37574, 0.48812, 0.53532, 0.57078, 0.60292, ...   \n",
       "1  [0.37638, 0.48856, 0.5329, 0.57092, 0.59952, 0...   \n",
       "2  [0.10582, 0.16752, 0.21536, 0.2594, 0.2954, 0....   \n",
       "3  [0.37308, 0.43228, 0.46314, 0.48692, 0.51022, ...   \n",
       "4  [0.3526, 0.39994, 0.40214, 0.21452, 0.1, 0.1, ...   \n",
       "\n",
       "                                      val_accuracies test_accuracies  \n",
       "0  [0.46, 0.5023, 0.5164, 0.5315, 0.5323, 0.5324,...              []  \n",
       "1  [0.451, 0.4986, 0.5242, 0.531, 0.5315, 0.5435,...              []  \n",
       "2  [0.1, 0.181, 0.2495, 0.2897, 0.2846, 0.3188, 0...              []  \n",
       "3  [0.4091, 0.4368, 0.4523, 0.4638, 0.4703, 0.478...              []  \n",
       "4  [0.3828, 0.4135, 0.397, 0.1, 0.1, 0.1, 0.1, 0....              []  "
      ],
      "text/html": [
       "<div>\n",
       "<style scoped>\n",
       "    .dataframe tbody tr th:only-of-type {\n",
       "        vertical-align: middle;\n",
       "    }\n",
       "\n",
       "    .dataframe tbody tr th {\n",
       "        vertical-align: top;\n",
       "    }\n",
       "\n",
       "    .dataframe thead th {\n",
       "        text-align: right;\n",
       "    }\n",
       "</style>\n",
       "<table border=\"1\" class=\"dataframe\">\n",
       "  <thead>\n",
       "    <tr style=\"text-align: right;\">\n",
       "      <th></th>\n",
       "      <th>activation</th>\n",
       "      <th>train_losses</th>\n",
       "      <th>val_losses</th>\n",
       "      <th>test_losses</th>\n",
       "      <th>train_accuracies</th>\n",
       "      <th>val_accuracies</th>\n",
       "      <th>test_accuracies</th>\n",
       "    </tr>\n",
       "  </thead>\n",
       "  <tbody>\n",
       "    <tr>\n",
       "      <th>0</th>\n",
       "      <td>relu</td>\n",
       "      <td>[1.754270024311817, 1.449570551857619, 1.32029...</td>\n",
       "      <td>[1.5562874757790868, 1.4024028566819202, 1.373...</td>\n",
       "      <td>[]</td>\n",
       "      <td>[0.37574, 0.48812, 0.53532, 0.57078, 0.60292, ...</td>\n",
       "      <td>[0.46, 0.5023, 0.5164, 0.5315, 0.5323, 0.5324,...</td>\n",
       "      <td>[]</td>\n",
       "    </tr>\n",
       "    <tr>\n",
       "      <th>1</th>\n",
       "      <td>leaky_relu</td>\n",
       "      <td>[1.7521490761081275, 1.4504411052864836, 1.318...</td>\n",
       "      <td>[1.5506830562519123, 1.4220768032194693, 1.356...</td>\n",
       "      <td>[]</td>\n",
       "      <td>[0.37638, 0.48856, 0.5329, 0.57092, 0.59952, 0...</td>\n",
       "      <td>[0.451, 0.4986, 0.5242, 0.531, 0.5315, 0.5435,...</td>\n",
       "      <td>[]</td>\n",
       "    </tr>\n",
       "    <tr>\n",
       "      <th>2</th>\n",
       "      <td>sigmoid</td>\n",
       "      <td>[2.3350579305682952, 2.1570179450237537, 2.045...</td>\n",
       "      <td>[2.2905006710487075, 2.086325692225106, 1.9975...</td>\n",
       "      <td>[]</td>\n",
       "      <td>[0.10582, 0.16752, 0.21536, 0.2594, 0.2954, 0....</td>\n",
       "      <td>[0.1, 0.181, 0.2495, 0.2897, 0.2846, 0.3188, 0...</td>\n",
       "      <td>[]</td>\n",
       "    </tr>\n",
       "    <tr>\n",
       "      <th>3</th>\n",
       "      <td>tanh</td>\n",
       "      <td>[1.7889854737254969, 1.6404871141819088, 1.555...</td>\n",
       "      <td>[1.6941428561753864, 1.6255174347116976, 1.590...</td>\n",
       "      <td>[]</td>\n",
       "      <td>[0.37308, 0.43228, 0.46314, 0.48692, 0.51022, ...</td>\n",
       "      <td>[0.4091, 0.4368, 0.4523, 0.4638, 0.4703, 0.478...</td>\n",
       "      <td>[]</td>\n",
       "    </tr>\n",
       "    <tr>\n",
       "      <th>4</th>\n",
       "      <td>relu_full_grad</td>\n",
       "      <td>[1.8257401355392182, 1.7182722997177593, 1.708...</td>\n",
       "      <td>[1.7612814661822742, 1.6772233806078947, 1.734...</td>\n",
       "      <td>[]</td>\n",
       "      <td>[0.3526, 0.39994, 0.40214, 0.21452, 0.1, 0.1, ...</td>\n",
       "      <td>[0.3828, 0.4135, 0.397, 0.1, 0.1, 0.1, 0.1, 0....</td>\n",
       "      <td>[]</td>\n",
       "    </tr>\n",
       "  </tbody>\n",
       "</table>\n",
       "</div>"
      ]
     },
     "execution_count": 10,
     "metadata": {},
     "output_type": "execute_result"
    }
   ],
   "execution_count": 10
  },
  {
   "metadata": {
    "ExecuteTime": {
     "end_time": "2024-12-06T22:33:29.801543Z",
     "start_time": "2024-12-06T22:33:29.779678Z"
    }
   },
   "cell_type": "code",
   "source": "plot_results(experiment_results)",
   "id": "f6a2316efd0bdb38",
   "outputs": [
    {
     "data": {
      "application/vnd.plotly.v1+json": {
       "data": [
        {
         "mode": "lines",
         "name": "relu - Train Loss",
         "x": [
          0,
          1,
          2,
          3,
          4,
          5,
          6,
          7,
          8,
          9,
          10,
          11,
          12,
          13,
          14,
          15,
          16,
          17,
          18,
          19
         ],
         "y": [
          1.7508830045495192,
          1.4482166687850757,
          1.315179004388697,
          1.2186579913129587,
          1.1306295411666032,
          1.0464036126270928,
          0.9707929821270506,
          0.8915730118751526,
          0.8171014025083283,
          0.7458779807285885,
          0.6699725882628994,
          0.5949770447695651,
          0.5326269099779446,
          0.4876380432444765,
          0.42367890134187003,
          0.3780664458604115,
          0.33941295697256124,
          0.2977678357716412,
          0.2711586467445354,
          0.23776298509839247
         ],
         "type": "scatter"
        },
        {
         "mode": "lines",
         "name": "relu - Val Loss",
         "x": [
          0,
          1,
          2,
          3,
          4,
          5,
          6,
          7,
          8,
          9,
          10,
          11,
          12,
          13,
          14,
          15,
          16,
          17,
          18,
          19
         ],
         "y": [
          1.512141024010091,
          1.417389919486227,
          1.3638237563869622,
          1.3243891136555732,
          1.3104957176160208,
          1.3270190471335301,
          1.3185704297657255,
          1.35456359461893,
          1.3784415819976903,
          1.4329035357583928,
          1.4909929670865023,
          1.488681648350969,
          1.5702275309381606,
          1.6743775817412365,
          1.7460446976408173,
          1.833543963070157,
          1.9734559089322634,
          1.9719588122790372,
          1.9743025514143933,
          2.08207859570467
         ],
         "type": "scatter"
        },
        {
         "mode": "lines",
         "name": "leaky_relu - Train Loss",
         "x": [
          0,
          1,
          2,
          3,
          4,
          5,
          6,
          7,
          8,
          9,
          10,
          11,
          12,
          13,
          14,
          15,
          16,
          17,
          18,
          19
         ],
         "y": [
          1.7495339563130723,
          1.4526162068252368,
          1.3166704019317237,
          1.2219650434411091,
          1.1343601009120112,
          1.0572668577703979,
          0.975552722621147,
          0.9036783612597629,
          0.8244564490550009,
          0.7530898950288972,
          0.6878261624852104,
          0.6101100956997298,
          0.5408856969355317,
          0.4792730533101065,
          0.4367474045823602,
          0.3934194166260912,
          0.33579115927829156,
          0.3050077061747651,
          0.27351877670687486,
          0.25199301681860026
         ],
         "type": "scatter"
        },
        {
         "mode": "lines",
         "name": "leaky_relu - Val Loss",
         "x": [
          0,
          1,
          2,
          3,
          4,
          5,
          6,
          7,
          8,
          9,
          10,
          11,
          12,
          13,
          14,
          15,
          16,
          17,
          18,
          19
         ],
         "y": [
          1.5100654288183284,
          1.4071735219110417,
          1.3695687628999542,
          1.3216422932057441,
          1.2950701396676558,
          1.2965010864825188,
          1.317891949339758,
          1.3332306810572176,
          1.407210774059537,
          1.380965776835816,
          1.4698602368560019,
          1.4809208399132838,
          1.5549376976640918,
          1.6124160923535311,
          1.7210476202300833,
          1.7754208634171305,
          1.8657091856002808,
          1.935973571825631,
          2.030744938910762,
          2.083782793600348
         ],
         "type": "scatter"
        },
        {
         "mode": "lines",
         "name": "sigmoid - Train Loss",
         "x": [
          0,
          1,
          2,
          3,
          4,
          5,
          6,
          7,
          8,
          9,
          10,
          11,
          12,
          13,
          14,
          15,
          16,
          17,
          18,
          19
         ],
         "y": [
          2.333797140194632,
          2.1527211632570036,
          2.0435094522393267,
          1.9625641805741487,
          1.917301694145593,
          1.8835540259890544,
          1.8524323457952045,
          1.8263644202590903,
          1.8041479121083799,
          1.786937335263128,
          1.7643187701549676,
          1.7470351143566238,
          1.7277259552265372,
          1.7079678917175058,
          1.6922695947730022,
          1.6698256633470736,
          1.6475483179092407,
          1.6253656511721404,
          1.6003186117352732,
          1.578998437622929
         ],
         "type": "scatter"
        },
        {
         "mode": "lines",
         "name": "sigmoid - Val Loss",
         "x": [
          0,
          1,
          2,
          3,
          4,
          5,
          6,
          7,
          8,
          9,
          10,
          11,
          12,
          13,
          14,
          15,
          16,
          17,
          18,
          19
         ],
         "y": [
          2.2796051773843886,
          2.057360528390619,
          2.003288723245452,
          1.920571609388424,
          1.894634290586544,
          1.8670658371116542,
          1.836617306817936,
          1.8067176598536818,
          1.7967522612100915,
          1.7819205748883984,
          1.7660737656339813,
          1.740243084823029,
          1.7319418991668314,
          1.7212219826782806,
          1.6934338898598393,
          1.6714962132369415,
          1.7037961935695214,
          1.6355764880965027,
          1.6278278812577454,
          1.6062621572349645
         ],
         "type": "scatter"
        },
        {
         "mode": "lines",
         "name": "tanh - Train Loss",
         "x": [
          0,
          1,
          2,
          3,
          4,
          5,
          6,
          7,
          8,
          9,
          10,
          11,
          12,
          13,
          14,
          15,
          16,
          17,
          18,
          19
         ],
         "y": [
          1.7874595862825204,
          1.6431738693086082,
          1.557562036282571,
          1.4844623377256077,
          1.4141378539907352,
          1.3392200424238239,
          1.2682835981059257,
          1.19193640008302,
          1.113492911581493,
          1.0417806384203685,
          0.9550832163952195,
          0.8874990722102583,
          0.8147481890285716,
          0.7396570601121849,
          0.6849070878894737,
          0.6171115074316254,
          0.564270761769141,
          0.49575296779880135,
          0.45896881342391527,
          0.41580415332256376
         ],
         "type": "scatter"
        },
        {
         "mode": "lines",
         "name": "tanh - Val Loss",
         "x": [
          0,
          1,
          2,
          3,
          4,
          5,
          6,
          7,
          8,
          9,
          10,
          11,
          12,
          13,
          14,
          15,
          16,
          17,
          18,
          19
         ],
         "y": [
          1.7116851187959503,
          1.608946442604065,
          1.5659963420674772,
          1.5592456935327264,
          1.5454572333565242,
          1.5517136462127106,
          1.5254748275008383,
          1.540297702897953,
          1.6129984704754021,
          1.5879386029665983,
          1.6967347679258902,
          1.7236309579656095,
          1.7458329261103762,
          1.9196148778818831,
          1.9029823586910586,
          1.994732349733763,
          2.0401011690308777,
          2.2482404482515554,
          2.273374866835679,
          2.401815916918501
         ],
         "type": "scatter"
        }
       ],
       "layout": {
        "template": {
         "data": {
          "barpolar": [
           {
            "marker": {
             "line": {
              "color": "rgb(17,17,17)",
              "width": 0.5
             },
             "pattern": {
              "fillmode": "overlay",
              "size": 10,
              "solidity": 0.2
             }
            },
            "type": "barpolar"
           }
          ],
          "bar": [
           {
            "error_x": {
             "color": "#f2f5fa"
            },
            "error_y": {
             "color": "#f2f5fa"
            },
            "marker": {
             "line": {
              "color": "rgb(17,17,17)",
              "width": 0.5
             },
             "pattern": {
              "fillmode": "overlay",
              "size": 10,
              "solidity": 0.2
             }
            },
            "type": "bar"
           }
          ],
          "carpet": [
           {
            "aaxis": {
             "endlinecolor": "#A2B1C6",
             "gridcolor": "#506784",
             "linecolor": "#506784",
             "minorgridcolor": "#506784",
             "startlinecolor": "#A2B1C6"
            },
            "baxis": {
             "endlinecolor": "#A2B1C6",
             "gridcolor": "#506784",
             "linecolor": "#506784",
             "minorgridcolor": "#506784",
             "startlinecolor": "#A2B1C6"
            },
            "type": "carpet"
           }
          ],
          "choropleth": [
           {
            "colorbar": {
             "outlinewidth": 0,
             "ticks": ""
            },
            "type": "choropleth"
           }
          ],
          "contourcarpet": [
           {
            "colorbar": {
             "outlinewidth": 0,
             "ticks": ""
            },
            "type": "contourcarpet"
           }
          ],
          "contour": [
           {
            "colorbar": {
             "outlinewidth": 0,
             "ticks": ""
            },
            "colorscale": [
             [
              0.0,
              "#0d0887"
             ],
             [
              0.1111111111111111,
              "#46039f"
             ],
             [
              0.2222222222222222,
              "#7201a8"
             ],
             [
              0.3333333333333333,
              "#9c179e"
             ],
             [
              0.4444444444444444,
              "#bd3786"
             ],
             [
              0.5555555555555556,
              "#d8576b"
             ],
             [
              0.6666666666666666,
              "#ed7953"
             ],
             [
              0.7777777777777778,
              "#fb9f3a"
             ],
             [
              0.8888888888888888,
              "#fdca26"
             ],
             [
              1.0,
              "#f0f921"
             ]
            ],
            "type": "contour"
           }
          ],
          "heatmapgl": [
           {
            "colorbar": {
             "outlinewidth": 0,
             "ticks": ""
            },
            "colorscale": [
             [
              0.0,
              "#0d0887"
             ],
             [
              0.1111111111111111,
              "#46039f"
             ],
             [
              0.2222222222222222,
              "#7201a8"
             ],
             [
              0.3333333333333333,
              "#9c179e"
             ],
             [
              0.4444444444444444,
              "#bd3786"
             ],
             [
              0.5555555555555556,
              "#d8576b"
             ],
             [
              0.6666666666666666,
              "#ed7953"
             ],
             [
              0.7777777777777778,
              "#fb9f3a"
             ],
             [
              0.8888888888888888,
              "#fdca26"
             ],
             [
              1.0,
              "#f0f921"
             ]
            ],
            "type": "heatmapgl"
           }
          ],
          "heatmap": [
           {
            "colorbar": {
             "outlinewidth": 0,
             "ticks": ""
            },
            "colorscale": [
             [
              0.0,
              "#0d0887"
             ],
             [
              0.1111111111111111,
              "#46039f"
             ],
             [
              0.2222222222222222,
              "#7201a8"
             ],
             [
              0.3333333333333333,
              "#9c179e"
             ],
             [
              0.4444444444444444,
              "#bd3786"
             ],
             [
              0.5555555555555556,
              "#d8576b"
             ],
             [
              0.6666666666666666,
              "#ed7953"
             ],
             [
              0.7777777777777778,
              "#fb9f3a"
             ],
             [
              0.8888888888888888,
              "#fdca26"
             ],
             [
              1.0,
              "#f0f921"
             ]
            ],
            "type": "heatmap"
           }
          ],
          "histogram2dcontour": [
           {
            "colorbar": {
             "outlinewidth": 0,
             "ticks": ""
            },
            "colorscale": [
             [
              0.0,
              "#0d0887"
             ],
             [
              0.1111111111111111,
              "#46039f"
             ],
             [
              0.2222222222222222,
              "#7201a8"
             ],
             [
              0.3333333333333333,
              "#9c179e"
             ],
             [
              0.4444444444444444,
              "#bd3786"
             ],
             [
              0.5555555555555556,
              "#d8576b"
             ],
             [
              0.6666666666666666,
              "#ed7953"
             ],
             [
              0.7777777777777778,
              "#fb9f3a"
             ],
             [
              0.8888888888888888,
              "#fdca26"
             ],
             [
              1.0,
              "#f0f921"
             ]
            ],
            "type": "histogram2dcontour"
           }
          ],
          "histogram2d": [
           {
            "colorbar": {
             "outlinewidth": 0,
             "ticks": ""
            },
            "colorscale": [
             [
              0.0,
              "#0d0887"
             ],
             [
              0.1111111111111111,
              "#46039f"
             ],
             [
              0.2222222222222222,
              "#7201a8"
             ],
             [
              0.3333333333333333,
              "#9c179e"
             ],
             [
              0.4444444444444444,
              "#bd3786"
             ],
             [
              0.5555555555555556,
              "#d8576b"
             ],
             [
              0.6666666666666666,
              "#ed7953"
             ],
             [
              0.7777777777777778,
              "#fb9f3a"
             ],
             [
              0.8888888888888888,
              "#fdca26"
             ],
             [
              1.0,
              "#f0f921"
             ]
            ],
            "type": "histogram2d"
           }
          ],
          "histogram": [
           {
            "marker": {
             "pattern": {
              "fillmode": "overlay",
              "size": 10,
              "solidity": 0.2
             }
            },
            "type": "histogram"
           }
          ],
          "mesh3d": [
           {
            "colorbar": {
             "outlinewidth": 0,
             "ticks": ""
            },
            "type": "mesh3d"
           }
          ],
          "parcoords": [
           {
            "line": {
             "colorbar": {
              "outlinewidth": 0,
              "ticks": ""
             }
            },
            "type": "parcoords"
           }
          ],
          "pie": [
           {
            "automargin": true,
            "type": "pie"
           }
          ],
          "scatter3d": [
           {
            "line": {
             "colorbar": {
              "outlinewidth": 0,
              "ticks": ""
             }
            },
            "marker": {
             "colorbar": {
              "outlinewidth": 0,
              "ticks": ""
             }
            },
            "type": "scatter3d"
           }
          ],
          "scattercarpet": [
           {
            "marker": {
             "colorbar": {
              "outlinewidth": 0,
              "ticks": ""
             }
            },
            "type": "scattercarpet"
           }
          ],
          "scattergeo": [
           {
            "marker": {
             "colorbar": {
              "outlinewidth": 0,
              "ticks": ""
             }
            },
            "type": "scattergeo"
           }
          ],
          "scattergl": [
           {
            "marker": {
             "line": {
              "color": "#283442"
             }
            },
            "type": "scattergl"
           }
          ],
          "scattermapbox": [
           {
            "marker": {
             "colorbar": {
              "outlinewidth": 0,
              "ticks": ""
             }
            },
            "type": "scattermapbox"
           }
          ],
          "scatterpolargl": [
           {
            "marker": {
             "colorbar": {
              "outlinewidth": 0,
              "ticks": ""
             }
            },
            "type": "scatterpolargl"
           }
          ],
          "scatterpolar": [
           {
            "marker": {
             "colorbar": {
              "outlinewidth": 0,
              "ticks": ""
             }
            },
            "type": "scatterpolar"
           }
          ],
          "scatter": [
           {
            "marker": {
             "line": {
              "color": "#283442"
             }
            },
            "type": "scatter"
           }
          ],
          "scatterternary": [
           {
            "marker": {
             "colorbar": {
              "outlinewidth": 0,
              "ticks": ""
             }
            },
            "type": "scatterternary"
           }
          ],
          "surface": [
           {
            "colorbar": {
             "outlinewidth": 0,
             "ticks": ""
            },
            "colorscale": [
             [
              0.0,
              "#0d0887"
             ],
             [
              0.1111111111111111,
              "#46039f"
             ],
             [
              0.2222222222222222,
              "#7201a8"
             ],
             [
              0.3333333333333333,
              "#9c179e"
             ],
             [
              0.4444444444444444,
              "#bd3786"
             ],
             [
              0.5555555555555556,
              "#d8576b"
             ],
             [
              0.6666666666666666,
              "#ed7953"
             ],
             [
              0.7777777777777778,
              "#fb9f3a"
             ],
             [
              0.8888888888888888,
              "#fdca26"
             ],
             [
              1.0,
              "#f0f921"
             ]
            ],
            "type": "surface"
           }
          ],
          "table": [
           {
            "cells": {
             "fill": {
              "color": "#506784"
             },
             "line": {
              "color": "rgb(17,17,17)"
             }
            },
            "header": {
             "fill": {
              "color": "#2a3f5f"
             },
             "line": {
              "color": "rgb(17,17,17)"
             }
            },
            "type": "table"
           }
          ]
         },
         "layout": {
          "annotationdefaults": {
           "arrowcolor": "#f2f5fa",
           "arrowhead": 0,
           "arrowwidth": 1
          },
          "autotypenumbers": "strict",
          "coloraxis": {
           "colorbar": {
            "outlinewidth": 0,
            "ticks": ""
           }
          },
          "colorscale": {
           "diverging": [
            [
             0,
             "#8e0152"
            ],
            [
             0.1,
             "#c51b7d"
            ],
            [
             0.2,
             "#de77ae"
            ],
            [
             0.3,
             "#f1b6da"
            ],
            [
             0.4,
             "#fde0ef"
            ],
            [
             0.5,
             "#f7f7f7"
            ],
            [
             0.6,
             "#e6f5d0"
            ],
            [
             0.7,
             "#b8e186"
            ],
            [
             0.8,
             "#7fbc41"
            ],
            [
             0.9,
             "#4d9221"
            ],
            [
             1,
             "#276419"
            ]
           ],
           "sequential": [
            [
             0.0,
             "#0d0887"
            ],
            [
             0.1111111111111111,
             "#46039f"
            ],
            [
             0.2222222222222222,
             "#7201a8"
            ],
            [
             0.3333333333333333,
             "#9c179e"
            ],
            [
             0.4444444444444444,
             "#bd3786"
            ],
            [
             0.5555555555555556,
             "#d8576b"
            ],
            [
             0.6666666666666666,
             "#ed7953"
            ],
            [
             0.7777777777777778,
             "#fb9f3a"
            ],
            [
             0.8888888888888888,
             "#fdca26"
            ],
            [
             1.0,
             "#f0f921"
            ]
           ],
           "sequentialminus": [
            [
             0.0,
             "#0d0887"
            ],
            [
             0.1111111111111111,
             "#46039f"
            ],
            [
             0.2222222222222222,
             "#7201a8"
            ],
            [
             0.3333333333333333,
             "#9c179e"
            ],
            [
             0.4444444444444444,
             "#bd3786"
            ],
            [
             0.5555555555555556,
             "#d8576b"
            ],
            [
             0.6666666666666666,
             "#ed7953"
            ],
            [
             0.7777777777777778,
             "#fb9f3a"
            ],
            [
             0.8888888888888888,
             "#fdca26"
            ],
            [
             1.0,
             "#f0f921"
            ]
           ]
          },
          "colorway": [
           "#636efa",
           "#EF553B",
           "#00cc96",
           "#ab63fa",
           "#FFA15A",
           "#19d3f3",
           "#FF6692",
           "#B6E880",
           "#FF97FF",
           "#FECB52"
          ],
          "font": {
           "color": "#f2f5fa"
          },
          "geo": {
           "bgcolor": "rgb(17,17,17)",
           "lakecolor": "rgb(17,17,17)",
           "landcolor": "rgb(17,17,17)",
           "showlakes": true,
           "showland": true,
           "subunitcolor": "#506784"
          },
          "hoverlabel": {
           "align": "left"
          },
          "hovermode": "closest",
          "mapbox": {
           "style": "dark"
          },
          "paper_bgcolor": "rgb(17,17,17)",
          "plot_bgcolor": "rgb(17,17,17)",
          "polar": {
           "angularaxis": {
            "gridcolor": "#506784",
            "linecolor": "#506784",
            "ticks": ""
           },
           "bgcolor": "rgb(17,17,17)",
           "radialaxis": {
            "gridcolor": "#506784",
            "linecolor": "#506784",
            "ticks": ""
           }
          },
          "scene": {
           "xaxis": {
            "backgroundcolor": "rgb(17,17,17)",
            "gridcolor": "#506784",
            "gridwidth": 2,
            "linecolor": "#506784",
            "showbackground": true,
            "ticks": "",
            "zerolinecolor": "#C8D4E3"
           },
           "yaxis": {
            "backgroundcolor": "rgb(17,17,17)",
            "gridcolor": "#506784",
            "gridwidth": 2,
            "linecolor": "#506784",
            "showbackground": true,
            "ticks": "",
            "zerolinecolor": "#C8D4E3"
           },
           "zaxis": {
            "backgroundcolor": "rgb(17,17,17)",
            "gridcolor": "#506784",
            "gridwidth": 2,
            "linecolor": "#506784",
            "showbackground": true,
            "ticks": "",
            "zerolinecolor": "#C8D4E3"
           }
          },
          "shapedefaults": {
           "line": {
            "color": "#f2f5fa"
           }
          },
          "sliderdefaults": {
           "bgcolor": "#C8D4E3",
           "bordercolor": "rgb(17,17,17)",
           "borderwidth": 1,
           "tickwidth": 0
          },
          "ternary": {
           "aaxis": {
            "gridcolor": "#506784",
            "linecolor": "#506784",
            "ticks": ""
           },
           "baxis": {
            "gridcolor": "#506784",
            "linecolor": "#506784",
            "ticks": ""
           },
           "bgcolor": "rgb(17,17,17)",
           "caxis": {
            "gridcolor": "#506784",
            "linecolor": "#506784",
            "ticks": ""
           }
          },
          "title": {
           "x": 0.05
          },
          "updatemenudefaults": {
           "bgcolor": "#506784",
           "borderwidth": 0
          },
          "xaxis": {
           "automargin": true,
           "gridcolor": "#283442",
           "linecolor": "#506784",
           "ticks": "",
           "title": {
            "standoff": 15
           },
           "zerolinecolor": "#283442",
           "zerolinewidth": 2
          },
          "yaxis": {
           "automargin": true,
           "gridcolor": "#283442",
           "linecolor": "#506784",
           "ticks": "",
           "title": {
            "standoff": 15
           },
           "zerolinecolor": "#283442",
           "zerolinewidth": 2
          }
         }
        },
        "title": {
         "text": "Loss vs Epochs"
        },
        "xaxis": {
         "title": {
          "text": "Epochs"
         }
        },
        "yaxis": {
         "title": {
          "text": "Loss"
         }
        },
        "legend": {
         "title": {
          "text": "Legend"
         }
        }
       },
       "config": {
        "plotlyServerURL": "https://plot.ly"
       }
      },
      "text/html": [
       "<div>                            <div id=\"e235e509-96c4-4918-8e18-e4a0836c8007\" class=\"plotly-graph-div\" style=\"height:525px; width:100%;\"></div>            <script type=\"text/javascript\">                require([\"plotly\"], function(Plotly) {                    window.PLOTLYENV=window.PLOTLYENV || {};                                    if (document.getElementById(\"e235e509-96c4-4918-8e18-e4a0836c8007\")) {                    Plotly.newPlot(                        \"e235e509-96c4-4918-8e18-e4a0836c8007\",                        [{\"mode\":\"lines\",\"name\":\"relu - Train Loss\",\"x\":[0,1,2,3,4,5,6,7,8,9,10,11,12,13,14,15,16,17,18,19],\"y\":[1.7508830045495192,1.4482166687850757,1.315179004388697,1.2186579913129587,1.1306295411666032,1.0464036126270928,0.9707929821270506,0.8915730118751526,0.8171014025083283,0.7458779807285885,0.6699725882628994,0.5949770447695651,0.5326269099779446,0.4876380432444765,0.42367890134187003,0.3780664458604115,0.33941295697256124,0.2977678357716412,0.2711586467445354,0.23776298509839247],\"type\":\"scatter\"},{\"mode\":\"lines\",\"name\":\"relu - Val Loss\",\"x\":[0,1,2,3,4,5,6,7,8,9,10,11,12,13,14,15,16,17,18,19],\"y\":[1.512141024010091,1.417389919486227,1.3638237563869622,1.3243891136555732,1.3104957176160208,1.3270190471335301,1.3185704297657255,1.35456359461893,1.3784415819976903,1.4329035357583928,1.4909929670865023,1.488681648350969,1.5702275309381606,1.6743775817412365,1.7460446976408173,1.833543963070157,1.9734559089322634,1.9719588122790372,1.9743025514143933,2.08207859570467],\"type\":\"scatter\"},{\"mode\":\"lines\",\"name\":\"leaky_relu - Train Loss\",\"x\":[0,1,2,3,4,5,6,7,8,9,10,11,12,13,14,15,16,17,18,19],\"y\":[1.7495339563130723,1.4526162068252368,1.3166704019317237,1.2219650434411091,1.1343601009120112,1.0572668577703979,0.975552722621147,0.9036783612597629,0.8244564490550009,0.7530898950288972,0.6878261624852104,0.6101100956997298,0.5408856969355317,0.4792730533101065,0.4367474045823602,0.3934194166260912,0.33579115927829156,0.3050077061747651,0.27351877670687486,0.25199301681860026],\"type\":\"scatter\"},{\"mode\":\"lines\",\"name\":\"leaky_relu - Val Loss\",\"x\":[0,1,2,3,4,5,6,7,8,9,10,11,12,13,14,15,16,17,18,19],\"y\":[1.5100654288183284,1.4071735219110417,1.3695687628999542,1.3216422932057441,1.2950701396676558,1.2965010864825188,1.317891949339758,1.3332306810572176,1.407210774059537,1.380965776835816,1.4698602368560019,1.4809208399132838,1.5549376976640918,1.6124160923535311,1.7210476202300833,1.7754208634171305,1.8657091856002808,1.935973571825631,2.030744938910762,2.083782793600348],\"type\":\"scatter\"},{\"mode\":\"lines\",\"name\":\"sigmoid - Train Loss\",\"x\":[0,1,2,3,4,5,6,7,8,9,10,11,12,13,14,15,16,17,18,19],\"y\":[2.333797140194632,2.1527211632570036,2.0435094522393267,1.9625641805741487,1.917301694145593,1.8835540259890544,1.8524323457952045,1.8263644202590903,1.8041479121083799,1.786937335263128,1.7643187701549676,1.7470351143566238,1.7277259552265372,1.7079678917175058,1.6922695947730022,1.6698256633470736,1.6475483179092407,1.6253656511721404,1.6003186117352732,1.578998437622929],\"type\":\"scatter\"},{\"mode\":\"lines\",\"name\":\"sigmoid - Val Loss\",\"x\":[0,1,2,3,4,5,6,7,8,9,10,11,12,13,14,15,16,17,18,19],\"y\":[2.2796051773843886,2.057360528390619,2.003288723245452,1.920571609388424,1.894634290586544,1.8670658371116542,1.836617306817936,1.8067176598536818,1.7967522612100915,1.7819205748883984,1.7660737656339813,1.740243084823029,1.7319418991668314,1.7212219826782806,1.6934338898598393,1.6714962132369415,1.7037961935695214,1.6355764880965027,1.6278278812577454,1.6062621572349645],\"type\":\"scatter\"},{\"mode\":\"lines\",\"name\":\"tanh - Train Loss\",\"x\":[0,1,2,3,4,5,6,7,8,9,10,11,12,13,14,15,16,17,18,19],\"y\":[1.7874595862825204,1.6431738693086082,1.557562036282571,1.4844623377256077,1.4141378539907352,1.3392200424238239,1.2682835981059257,1.19193640008302,1.113492911581493,1.0417806384203685,0.9550832163952195,0.8874990722102583,0.8147481890285716,0.7396570601121849,0.6849070878894737,0.6171115074316254,0.564270761769141,0.49575296779880135,0.45896881342391527,0.41580415332256376],\"type\":\"scatter\"},{\"mode\":\"lines\",\"name\":\"tanh - Val Loss\",\"x\":[0,1,2,3,4,5,6,7,8,9,10,11,12,13,14,15,16,17,18,19],\"y\":[1.7116851187959503,1.608946442604065,1.5659963420674772,1.5592456935327264,1.5454572333565242,1.5517136462127106,1.5254748275008383,1.540297702897953,1.6129984704754021,1.5879386029665983,1.6967347679258902,1.7236309579656095,1.7458329261103762,1.9196148778818831,1.9029823586910586,1.994732349733763,2.0401011690308777,2.2482404482515554,2.273374866835679,2.401815916918501],\"type\":\"scatter\"}],                        {\"template\":{\"data\":{\"barpolar\":[{\"marker\":{\"line\":{\"color\":\"rgb(17,17,17)\",\"width\":0.5},\"pattern\":{\"fillmode\":\"overlay\",\"size\":10,\"solidity\":0.2}},\"type\":\"barpolar\"}],\"bar\":[{\"error_x\":{\"color\":\"#f2f5fa\"},\"error_y\":{\"color\":\"#f2f5fa\"},\"marker\":{\"line\":{\"color\":\"rgb(17,17,17)\",\"width\":0.5},\"pattern\":{\"fillmode\":\"overlay\",\"size\":10,\"solidity\":0.2}},\"type\":\"bar\"}],\"carpet\":[{\"aaxis\":{\"endlinecolor\":\"#A2B1C6\",\"gridcolor\":\"#506784\",\"linecolor\":\"#506784\",\"minorgridcolor\":\"#506784\",\"startlinecolor\":\"#A2B1C6\"},\"baxis\":{\"endlinecolor\":\"#A2B1C6\",\"gridcolor\":\"#506784\",\"linecolor\":\"#506784\",\"minorgridcolor\":\"#506784\",\"startlinecolor\":\"#A2B1C6\"},\"type\":\"carpet\"}],\"choropleth\":[{\"colorbar\":{\"outlinewidth\":0,\"ticks\":\"\"},\"type\":\"choropleth\"}],\"contourcarpet\":[{\"colorbar\":{\"outlinewidth\":0,\"ticks\":\"\"},\"type\":\"contourcarpet\"}],\"contour\":[{\"colorbar\":{\"outlinewidth\":0,\"ticks\":\"\"},\"colorscale\":[[0.0,\"#0d0887\"],[0.1111111111111111,\"#46039f\"],[0.2222222222222222,\"#7201a8\"],[0.3333333333333333,\"#9c179e\"],[0.4444444444444444,\"#bd3786\"],[0.5555555555555556,\"#d8576b\"],[0.6666666666666666,\"#ed7953\"],[0.7777777777777778,\"#fb9f3a\"],[0.8888888888888888,\"#fdca26\"],[1.0,\"#f0f921\"]],\"type\":\"contour\"}],\"heatmapgl\":[{\"colorbar\":{\"outlinewidth\":0,\"ticks\":\"\"},\"colorscale\":[[0.0,\"#0d0887\"],[0.1111111111111111,\"#46039f\"],[0.2222222222222222,\"#7201a8\"],[0.3333333333333333,\"#9c179e\"],[0.4444444444444444,\"#bd3786\"],[0.5555555555555556,\"#d8576b\"],[0.6666666666666666,\"#ed7953\"],[0.7777777777777778,\"#fb9f3a\"],[0.8888888888888888,\"#fdca26\"],[1.0,\"#f0f921\"]],\"type\":\"heatmapgl\"}],\"heatmap\":[{\"colorbar\":{\"outlinewidth\":0,\"ticks\":\"\"},\"colorscale\":[[0.0,\"#0d0887\"],[0.1111111111111111,\"#46039f\"],[0.2222222222222222,\"#7201a8\"],[0.3333333333333333,\"#9c179e\"],[0.4444444444444444,\"#bd3786\"],[0.5555555555555556,\"#d8576b\"],[0.6666666666666666,\"#ed7953\"],[0.7777777777777778,\"#fb9f3a\"],[0.8888888888888888,\"#fdca26\"],[1.0,\"#f0f921\"]],\"type\":\"heatmap\"}],\"histogram2dcontour\":[{\"colorbar\":{\"outlinewidth\":0,\"ticks\":\"\"},\"colorscale\":[[0.0,\"#0d0887\"],[0.1111111111111111,\"#46039f\"],[0.2222222222222222,\"#7201a8\"],[0.3333333333333333,\"#9c179e\"],[0.4444444444444444,\"#bd3786\"],[0.5555555555555556,\"#d8576b\"],[0.6666666666666666,\"#ed7953\"],[0.7777777777777778,\"#fb9f3a\"],[0.8888888888888888,\"#fdca26\"],[1.0,\"#f0f921\"]],\"type\":\"histogram2dcontour\"}],\"histogram2d\":[{\"colorbar\":{\"outlinewidth\":0,\"ticks\":\"\"},\"colorscale\":[[0.0,\"#0d0887\"],[0.1111111111111111,\"#46039f\"],[0.2222222222222222,\"#7201a8\"],[0.3333333333333333,\"#9c179e\"],[0.4444444444444444,\"#bd3786\"],[0.5555555555555556,\"#d8576b\"],[0.6666666666666666,\"#ed7953\"],[0.7777777777777778,\"#fb9f3a\"],[0.8888888888888888,\"#fdca26\"],[1.0,\"#f0f921\"]],\"type\":\"histogram2d\"}],\"histogram\":[{\"marker\":{\"pattern\":{\"fillmode\":\"overlay\",\"size\":10,\"solidity\":0.2}},\"type\":\"histogram\"}],\"mesh3d\":[{\"colorbar\":{\"outlinewidth\":0,\"ticks\":\"\"},\"type\":\"mesh3d\"}],\"parcoords\":[{\"line\":{\"colorbar\":{\"outlinewidth\":0,\"ticks\":\"\"}},\"type\":\"parcoords\"}],\"pie\":[{\"automargin\":true,\"type\":\"pie\"}],\"scatter3d\":[{\"line\":{\"colorbar\":{\"outlinewidth\":0,\"ticks\":\"\"}},\"marker\":{\"colorbar\":{\"outlinewidth\":0,\"ticks\":\"\"}},\"type\":\"scatter3d\"}],\"scattercarpet\":[{\"marker\":{\"colorbar\":{\"outlinewidth\":0,\"ticks\":\"\"}},\"type\":\"scattercarpet\"}],\"scattergeo\":[{\"marker\":{\"colorbar\":{\"outlinewidth\":0,\"ticks\":\"\"}},\"type\":\"scattergeo\"}],\"scattergl\":[{\"marker\":{\"line\":{\"color\":\"#283442\"}},\"type\":\"scattergl\"}],\"scattermapbox\":[{\"marker\":{\"colorbar\":{\"outlinewidth\":0,\"ticks\":\"\"}},\"type\":\"scattermapbox\"}],\"scatterpolargl\":[{\"marker\":{\"colorbar\":{\"outlinewidth\":0,\"ticks\":\"\"}},\"type\":\"scatterpolargl\"}],\"scatterpolar\":[{\"marker\":{\"colorbar\":{\"outlinewidth\":0,\"ticks\":\"\"}},\"type\":\"scatterpolar\"}],\"scatter\":[{\"marker\":{\"line\":{\"color\":\"#283442\"}},\"type\":\"scatter\"}],\"scatterternary\":[{\"marker\":{\"colorbar\":{\"outlinewidth\":0,\"ticks\":\"\"}},\"type\":\"scatterternary\"}],\"surface\":[{\"colorbar\":{\"outlinewidth\":0,\"ticks\":\"\"},\"colorscale\":[[0.0,\"#0d0887\"],[0.1111111111111111,\"#46039f\"],[0.2222222222222222,\"#7201a8\"],[0.3333333333333333,\"#9c179e\"],[0.4444444444444444,\"#bd3786\"],[0.5555555555555556,\"#d8576b\"],[0.6666666666666666,\"#ed7953\"],[0.7777777777777778,\"#fb9f3a\"],[0.8888888888888888,\"#fdca26\"],[1.0,\"#f0f921\"]],\"type\":\"surface\"}],\"table\":[{\"cells\":{\"fill\":{\"color\":\"#506784\"},\"line\":{\"color\":\"rgb(17,17,17)\"}},\"header\":{\"fill\":{\"color\":\"#2a3f5f\"},\"line\":{\"color\":\"rgb(17,17,17)\"}},\"type\":\"table\"}]},\"layout\":{\"annotationdefaults\":{\"arrowcolor\":\"#f2f5fa\",\"arrowhead\":0,\"arrowwidth\":1},\"autotypenumbers\":\"strict\",\"coloraxis\":{\"colorbar\":{\"outlinewidth\":0,\"ticks\":\"\"}},\"colorscale\":{\"diverging\":[[0,\"#8e0152\"],[0.1,\"#c51b7d\"],[0.2,\"#de77ae\"],[0.3,\"#f1b6da\"],[0.4,\"#fde0ef\"],[0.5,\"#f7f7f7\"],[0.6,\"#e6f5d0\"],[0.7,\"#b8e186\"],[0.8,\"#7fbc41\"],[0.9,\"#4d9221\"],[1,\"#276419\"]],\"sequential\":[[0.0,\"#0d0887\"],[0.1111111111111111,\"#46039f\"],[0.2222222222222222,\"#7201a8\"],[0.3333333333333333,\"#9c179e\"],[0.4444444444444444,\"#bd3786\"],[0.5555555555555556,\"#d8576b\"],[0.6666666666666666,\"#ed7953\"],[0.7777777777777778,\"#fb9f3a\"],[0.8888888888888888,\"#fdca26\"],[1.0,\"#f0f921\"]],\"sequentialminus\":[[0.0,\"#0d0887\"],[0.1111111111111111,\"#46039f\"],[0.2222222222222222,\"#7201a8\"],[0.3333333333333333,\"#9c179e\"],[0.4444444444444444,\"#bd3786\"],[0.5555555555555556,\"#d8576b\"],[0.6666666666666666,\"#ed7953\"],[0.7777777777777778,\"#fb9f3a\"],[0.8888888888888888,\"#fdca26\"],[1.0,\"#f0f921\"]]},\"colorway\":[\"#636efa\",\"#EF553B\",\"#00cc96\",\"#ab63fa\",\"#FFA15A\",\"#19d3f3\",\"#FF6692\",\"#B6E880\",\"#FF97FF\",\"#FECB52\"],\"font\":{\"color\":\"#f2f5fa\"},\"geo\":{\"bgcolor\":\"rgb(17,17,17)\",\"lakecolor\":\"rgb(17,17,17)\",\"landcolor\":\"rgb(17,17,17)\",\"showlakes\":true,\"showland\":true,\"subunitcolor\":\"#506784\"},\"hoverlabel\":{\"align\":\"left\"},\"hovermode\":\"closest\",\"mapbox\":{\"style\":\"dark\"},\"paper_bgcolor\":\"rgb(17,17,17)\",\"plot_bgcolor\":\"rgb(17,17,17)\",\"polar\":{\"angularaxis\":{\"gridcolor\":\"#506784\",\"linecolor\":\"#506784\",\"ticks\":\"\"},\"bgcolor\":\"rgb(17,17,17)\",\"radialaxis\":{\"gridcolor\":\"#506784\",\"linecolor\":\"#506784\",\"ticks\":\"\"}},\"scene\":{\"xaxis\":{\"backgroundcolor\":\"rgb(17,17,17)\",\"gridcolor\":\"#506784\",\"gridwidth\":2,\"linecolor\":\"#506784\",\"showbackground\":true,\"ticks\":\"\",\"zerolinecolor\":\"#C8D4E3\"},\"yaxis\":{\"backgroundcolor\":\"rgb(17,17,17)\",\"gridcolor\":\"#506784\",\"gridwidth\":2,\"linecolor\":\"#506784\",\"showbackground\":true,\"ticks\":\"\",\"zerolinecolor\":\"#C8D4E3\"},\"zaxis\":{\"backgroundcolor\":\"rgb(17,17,17)\",\"gridcolor\":\"#506784\",\"gridwidth\":2,\"linecolor\":\"#506784\",\"showbackground\":true,\"ticks\":\"\",\"zerolinecolor\":\"#C8D4E3\"}},\"shapedefaults\":{\"line\":{\"color\":\"#f2f5fa\"}},\"sliderdefaults\":{\"bgcolor\":\"#C8D4E3\",\"bordercolor\":\"rgb(17,17,17)\",\"borderwidth\":1,\"tickwidth\":0},\"ternary\":{\"aaxis\":{\"gridcolor\":\"#506784\",\"linecolor\":\"#506784\",\"ticks\":\"\"},\"baxis\":{\"gridcolor\":\"#506784\",\"linecolor\":\"#506784\",\"ticks\":\"\"},\"bgcolor\":\"rgb(17,17,17)\",\"caxis\":{\"gridcolor\":\"#506784\",\"linecolor\":\"#506784\",\"ticks\":\"\"}},\"title\":{\"x\":0.05},\"updatemenudefaults\":{\"bgcolor\":\"#506784\",\"borderwidth\":0},\"xaxis\":{\"automargin\":true,\"gridcolor\":\"#283442\",\"linecolor\":\"#506784\",\"ticks\":\"\",\"title\":{\"standoff\":15},\"zerolinecolor\":\"#283442\",\"zerolinewidth\":2},\"yaxis\":{\"automargin\":true,\"gridcolor\":\"#283442\",\"linecolor\":\"#506784\",\"ticks\":\"\",\"title\":{\"standoff\":15},\"zerolinecolor\":\"#283442\",\"zerolinewidth\":2}}},\"title\":{\"text\":\"Loss vs Epochs\"},\"xaxis\":{\"title\":{\"text\":\"Epochs\"}},\"yaxis\":{\"title\":{\"text\":\"Loss\"}},\"legend\":{\"title\":{\"text\":\"Legend\"}}},                        {\"responsive\": true}                    ).then(function(){\n",
       "                            \n",
       "var gd = document.getElementById('e235e509-96c4-4918-8e18-e4a0836c8007');\n",
       "var x = new MutationObserver(function (mutations, observer) {{\n",
       "        var display = window.getComputedStyle(gd).display;\n",
       "        if (!display || display === 'none') {{\n",
       "            console.log([gd, 'removed!']);\n",
       "            Plotly.purge(gd);\n",
       "            observer.disconnect();\n",
       "        }}\n",
       "}});\n",
       "\n",
       "// Listen for the removal of the full notebook cells\n",
       "var notebookContainer = gd.closest('#notebook-container');\n",
       "if (notebookContainer) {{\n",
       "    x.observe(notebookContainer, {childList: true});\n",
       "}}\n",
       "\n",
       "// Listen for the clearing of the current output cell\n",
       "var outputEl = gd.closest('.output');\n",
       "if (outputEl) {{\n",
       "    x.observe(outputEl, {childList: true});\n",
       "}}\n",
       "\n",
       "                        })                };                });            </script>        </div>"
      ]
     },
     "metadata": {},
     "output_type": "display_data"
    },
    {
     "data": {
      "application/vnd.plotly.v1+json": {
       "data": [
        {
         "mode": "lines+markers",
         "name": "relu - Train Accuracy",
         "x": [
          0,
          1,
          2,
          3,
          4,
          5,
          6,
          7,
          8,
          9,
          10,
          11,
          12,
          13,
          14,
          15,
          16,
          17,
          18,
          19
         ],
         "y": [
          0.3767,
          0.48912,
          0.53548,
          0.5732,
          0.6029,
          0.63052,
          0.65764,
          0.68586,
          0.71282,
          0.7368,
          0.7635,
          0.79094,
          0.81202,
          0.82784,
          0.85052,
          0.86716,
          0.88068,
          0.89578,
          0.90496,
          0.91692
         ],
         "type": "scatter"
        },
        {
         "mode": "lines+markers",
         "name": "relu - Val Accuracy",
         "x": [
          0,
          1,
          2,
          3,
          4,
          5,
          6,
          7,
          8,
          9,
          10,
          11,
          12,
          13,
          14,
          15,
          16,
          17,
          18,
          19
         ],
         "y": [
          0.4666,
          0.5006,
          0.5219,
          0.5348,
          0.5441,
          0.5414,
          0.5457,
          0.5513,
          0.5517,
          0.5454,
          0.5423,
          0.5472,
          0.5542,
          0.5523,
          0.5402,
          0.5555,
          0.5432,
          0.5493,
          0.5591,
          0.558
         ],
         "type": "scatter"
        },
        {
         "mode": "lines+markers",
         "name": "leaky_relu - Train Accuracy",
         "x": [
          0,
          1,
          2,
          3,
          4,
          5,
          6,
          7,
          8,
          9,
          10,
          11,
          12,
          13,
          14,
          15,
          16,
          17,
          18,
          19
         ],
         "y": [
          0.37628,
          0.48408,
          0.53782,
          0.56876,
          0.6004,
          0.62816,
          0.65482,
          0.68068,
          0.7099,
          0.73446,
          0.7578,
          0.78564,
          0.80944,
          0.8315,
          0.84614,
          0.86124,
          0.88292,
          0.89254,
          0.90534,
          0.9124
         ],
         "type": "scatter"
        },
        {
         "mode": "lines+markers",
         "name": "leaky_relu - Val Accuracy",
         "x": [
          0,
          1,
          2,
          3,
          4,
          5,
          6,
          7,
          8,
          9,
          10,
          11,
          12,
          13,
          14,
          15,
          16,
          17,
          18,
          19
         ],
         "y": [
          0.463,
          0.4984,
          0.5143,
          0.5354,
          0.5449,
          0.5472,
          0.5457,
          0.558,
          0.5438,
          0.5561,
          0.5468,
          0.5602,
          0.5579,
          0.551,
          0.5484,
          0.5487,
          0.5534,
          0.5558,
          0.5569,
          0.5526
         ],
         "type": "scatter"
        },
        {
         "mode": "lines+markers",
         "name": "sigmoid - Train Accuracy",
         "x": [
          0,
          1,
          2,
          3,
          4,
          5,
          6,
          7,
          8,
          9,
          10,
          11,
          12,
          13,
          14,
          15,
          16,
          17,
          18,
          19
         ],
         "y": [
          0.10814,
          0.17116,
          0.21358,
          0.2563,
          0.27988,
          0.30972,
          0.32178,
          0.3349,
          0.34204,
          0.34968,
          0.3602,
          0.3665,
          0.37626,
          0.38362,
          0.38944,
          0.3985,
          0.40708,
          0.41552,
          0.42536,
          0.43466
         ],
         "type": "scatter"
        },
        {
         "mode": "lines+markers",
         "name": "sigmoid - Val Accuracy",
         "x": [
          0,
          1,
          2,
          3,
          4,
          5,
          6,
          7,
          8,
          9,
          10,
          11,
          12,
          13,
          14,
          15,
          16,
          17,
          18,
          19
         ],
         "y": [
          0.1015,
          0.2195,
          0.2217,
          0.2809,
          0.2866,
          0.3137,
          0.3314,
          0.3386,
          0.3431,
          0.3459,
          0.3621,
          0.3696,
          0.3654,
          0.3808,
          0.3951,
          0.3987,
          0.3929,
          0.4122,
          0.4136,
          0.4288
         ],
         "type": "scatter"
        },
        {
         "mode": "lines+markers",
         "name": "tanh - Train Accuracy",
         "x": [
          0,
          1,
          2,
          3,
          4,
          5,
          6,
          7,
          8,
          9,
          10,
          11,
          12,
          13,
          14,
          15,
          16,
          17,
          18,
          19
         ],
         "y": [
          0.37448,
          0.42994,
          0.46254,
          0.4883,
          0.51408,
          0.53878,
          0.5641,
          0.58784,
          0.6177,
          0.6393,
          0.67,
          0.69314,
          0.72076,
          0.74348,
          0.76334,
          0.78546,
          0.80624,
          0.82792,
          0.84302,
          0.85766
         ],
         "type": "scatter"
        },
        {
         "mode": "lines+markers",
         "name": "tanh - Val Accuracy",
         "x": [
          0,
          1,
          2,
          3,
          4,
          5,
          6,
          7,
          8,
          9,
          10,
          11,
          12,
          13,
          14,
          15,
          16,
          17,
          18,
          19
         ],
         "y": [
          0.3974,
          0.4429,
          0.4597,
          0.4656,
          0.4719,
          0.4734,
          0.4885,
          0.4902,
          0.4679,
          0.4843,
          0.4773,
          0.4789,
          0.4851,
          0.4563,
          0.4671,
          0.4756,
          0.4734,
          0.4673,
          0.4539,
          0.4617
         ],
         "type": "scatter"
        }
       ],
       "layout": {
        "template": {
         "data": {
          "barpolar": [
           {
            "marker": {
             "line": {
              "color": "rgb(17,17,17)",
              "width": 0.5
             },
             "pattern": {
              "fillmode": "overlay",
              "size": 10,
              "solidity": 0.2
             }
            },
            "type": "barpolar"
           }
          ],
          "bar": [
           {
            "error_x": {
             "color": "#f2f5fa"
            },
            "error_y": {
             "color": "#f2f5fa"
            },
            "marker": {
             "line": {
              "color": "rgb(17,17,17)",
              "width": 0.5
             },
             "pattern": {
              "fillmode": "overlay",
              "size": 10,
              "solidity": 0.2
             }
            },
            "type": "bar"
           }
          ],
          "carpet": [
           {
            "aaxis": {
             "endlinecolor": "#A2B1C6",
             "gridcolor": "#506784",
             "linecolor": "#506784",
             "minorgridcolor": "#506784",
             "startlinecolor": "#A2B1C6"
            },
            "baxis": {
             "endlinecolor": "#A2B1C6",
             "gridcolor": "#506784",
             "linecolor": "#506784",
             "minorgridcolor": "#506784",
             "startlinecolor": "#A2B1C6"
            },
            "type": "carpet"
           }
          ],
          "choropleth": [
           {
            "colorbar": {
             "outlinewidth": 0,
             "ticks": ""
            },
            "type": "choropleth"
           }
          ],
          "contourcarpet": [
           {
            "colorbar": {
             "outlinewidth": 0,
             "ticks": ""
            },
            "type": "contourcarpet"
           }
          ],
          "contour": [
           {
            "colorbar": {
             "outlinewidth": 0,
             "ticks": ""
            },
            "colorscale": [
             [
              0.0,
              "#0d0887"
             ],
             [
              0.1111111111111111,
              "#46039f"
             ],
             [
              0.2222222222222222,
              "#7201a8"
             ],
             [
              0.3333333333333333,
              "#9c179e"
             ],
             [
              0.4444444444444444,
              "#bd3786"
             ],
             [
              0.5555555555555556,
              "#d8576b"
             ],
             [
              0.6666666666666666,
              "#ed7953"
             ],
             [
              0.7777777777777778,
              "#fb9f3a"
             ],
             [
              0.8888888888888888,
              "#fdca26"
             ],
             [
              1.0,
              "#f0f921"
             ]
            ],
            "type": "contour"
           }
          ],
          "heatmapgl": [
           {
            "colorbar": {
             "outlinewidth": 0,
             "ticks": ""
            },
            "colorscale": [
             [
              0.0,
              "#0d0887"
             ],
             [
              0.1111111111111111,
              "#46039f"
             ],
             [
              0.2222222222222222,
              "#7201a8"
             ],
             [
              0.3333333333333333,
              "#9c179e"
             ],
             [
              0.4444444444444444,
              "#bd3786"
             ],
             [
              0.5555555555555556,
              "#d8576b"
             ],
             [
              0.6666666666666666,
              "#ed7953"
             ],
             [
              0.7777777777777778,
              "#fb9f3a"
             ],
             [
              0.8888888888888888,
              "#fdca26"
             ],
             [
              1.0,
              "#f0f921"
             ]
            ],
            "type": "heatmapgl"
           }
          ],
          "heatmap": [
           {
            "colorbar": {
             "outlinewidth": 0,
             "ticks": ""
            },
            "colorscale": [
             [
              0.0,
              "#0d0887"
             ],
             [
              0.1111111111111111,
              "#46039f"
             ],
             [
              0.2222222222222222,
              "#7201a8"
             ],
             [
              0.3333333333333333,
              "#9c179e"
             ],
             [
              0.4444444444444444,
              "#bd3786"
             ],
             [
              0.5555555555555556,
              "#d8576b"
             ],
             [
              0.6666666666666666,
              "#ed7953"
             ],
             [
              0.7777777777777778,
              "#fb9f3a"
             ],
             [
              0.8888888888888888,
              "#fdca26"
             ],
             [
              1.0,
              "#f0f921"
             ]
            ],
            "type": "heatmap"
           }
          ],
          "histogram2dcontour": [
           {
            "colorbar": {
             "outlinewidth": 0,
             "ticks": ""
            },
            "colorscale": [
             [
              0.0,
              "#0d0887"
             ],
             [
              0.1111111111111111,
              "#46039f"
             ],
             [
              0.2222222222222222,
              "#7201a8"
             ],
             [
              0.3333333333333333,
              "#9c179e"
             ],
             [
              0.4444444444444444,
              "#bd3786"
             ],
             [
              0.5555555555555556,
              "#d8576b"
             ],
             [
              0.6666666666666666,
              "#ed7953"
             ],
             [
              0.7777777777777778,
              "#fb9f3a"
             ],
             [
              0.8888888888888888,
              "#fdca26"
             ],
             [
              1.0,
              "#f0f921"
             ]
            ],
            "type": "histogram2dcontour"
           }
          ],
          "histogram2d": [
           {
            "colorbar": {
             "outlinewidth": 0,
             "ticks": ""
            },
            "colorscale": [
             [
              0.0,
              "#0d0887"
             ],
             [
              0.1111111111111111,
              "#46039f"
             ],
             [
              0.2222222222222222,
              "#7201a8"
             ],
             [
              0.3333333333333333,
              "#9c179e"
             ],
             [
              0.4444444444444444,
              "#bd3786"
             ],
             [
              0.5555555555555556,
              "#d8576b"
             ],
             [
              0.6666666666666666,
              "#ed7953"
             ],
             [
              0.7777777777777778,
              "#fb9f3a"
             ],
             [
              0.8888888888888888,
              "#fdca26"
             ],
             [
              1.0,
              "#f0f921"
             ]
            ],
            "type": "histogram2d"
           }
          ],
          "histogram": [
           {
            "marker": {
             "pattern": {
              "fillmode": "overlay",
              "size": 10,
              "solidity": 0.2
             }
            },
            "type": "histogram"
           }
          ],
          "mesh3d": [
           {
            "colorbar": {
             "outlinewidth": 0,
             "ticks": ""
            },
            "type": "mesh3d"
           }
          ],
          "parcoords": [
           {
            "line": {
             "colorbar": {
              "outlinewidth": 0,
              "ticks": ""
             }
            },
            "type": "parcoords"
           }
          ],
          "pie": [
           {
            "automargin": true,
            "type": "pie"
           }
          ],
          "scatter3d": [
           {
            "line": {
             "colorbar": {
              "outlinewidth": 0,
              "ticks": ""
             }
            },
            "marker": {
             "colorbar": {
              "outlinewidth": 0,
              "ticks": ""
             }
            },
            "type": "scatter3d"
           }
          ],
          "scattercarpet": [
           {
            "marker": {
             "colorbar": {
              "outlinewidth": 0,
              "ticks": ""
             }
            },
            "type": "scattercarpet"
           }
          ],
          "scattergeo": [
           {
            "marker": {
             "colorbar": {
              "outlinewidth": 0,
              "ticks": ""
             }
            },
            "type": "scattergeo"
           }
          ],
          "scattergl": [
           {
            "marker": {
             "line": {
              "color": "#283442"
             }
            },
            "type": "scattergl"
           }
          ],
          "scattermapbox": [
           {
            "marker": {
             "colorbar": {
              "outlinewidth": 0,
              "ticks": ""
             }
            },
            "type": "scattermapbox"
           }
          ],
          "scatterpolargl": [
           {
            "marker": {
             "colorbar": {
              "outlinewidth": 0,
              "ticks": ""
             }
            },
            "type": "scatterpolargl"
           }
          ],
          "scatterpolar": [
           {
            "marker": {
             "colorbar": {
              "outlinewidth": 0,
              "ticks": ""
             }
            },
            "type": "scatterpolar"
           }
          ],
          "scatter": [
           {
            "marker": {
             "line": {
              "color": "#283442"
             }
            },
            "type": "scatter"
           }
          ],
          "scatterternary": [
           {
            "marker": {
             "colorbar": {
              "outlinewidth": 0,
              "ticks": ""
             }
            },
            "type": "scatterternary"
           }
          ],
          "surface": [
           {
            "colorbar": {
             "outlinewidth": 0,
             "ticks": ""
            },
            "colorscale": [
             [
              0.0,
              "#0d0887"
             ],
             [
              0.1111111111111111,
              "#46039f"
             ],
             [
              0.2222222222222222,
              "#7201a8"
             ],
             [
              0.3333333333333333,
              "#9c179e"
             ],
             [
              0.4444444444444444,
              "#bd3786"
             ],
             [
              0.5555555555555556,
              "#d8576b"
             ],
             [
              0.6666666666666666,
              "#ed7953"
             ],
             [
              0.7777777777777778,
              "#fb9f3a"
             ],
             [
              0.8888888888888888,
              "#fdca26"
             ],
             [
              1.0,
              "#f0f921"
             ]
            ],
            "type": "surface"
           }
          ],
          "table": [
           {
            "cells": {
             "fill": {
              "color": "#506784"
             },
             "line": {
              "color": "rgb(17,17,17)"
             }
            },
            "header": {
             "fill": {
              "color": "#2a3f5f"
             },
             "line": {
              "color": "rgb(17,17,17)"
             }
            },
            "type": "table"
           }
          ]
         },
         "layout": {
          "annotationdefaults": {
           "arrowcolor": "#f2f5fa",
           "arrowhead": 0,
           "arrowwidth": 1
          },
          "autotypenumbers": "strict",
          "coloraxis": {
           "colorbar": {
            "outlinewidth": 0,
            "ticks": ""
           }
          },
          "colorscale": {
           "diverging": [
            [
             0,
             "#8e0152"
            ],
            [
             0.1,
             "#c51b7d"
            ],
            [
             0.2,
             "#de77ae"
            ],
            [
             0.3,
             "#f1b6da"
            ],
            [
             0.4,
             "#fde0ef"
            ],
            [
             0.5,
             "#f7f7f7"
            ],
            [
             0.6,
             "#e6f5d0"
            ],
            [
             0.7,
             "#b8e186"
            ],
            [
             0.8,
             "#7fbc41"
            ],
            [
             0.9,
             "#4d9221"
            ],
            [
             1,
             "#276419"
            ]
           ],
           "sequential": [
            [
             0.0,
             "#0d0887"
            ],
            [
             0.1111111111111111,
             "#46039f"
            ],
            [
             0.2222222222222222,
             "#7201a8"
            ],
            [
             0.3333333333333333,
             "#9c179e"
            ],
            [
             0.4444444444444444,
             "#bd3786"
            ],
            [
             0.5555555555555556,
             "#d8576b"
            ],
            [
             0.6666666666666666,
             "#ed7953"
            ],
            [
             0.7777777777777778,
             "#fb9f3a"
            ],
            [
             0.8888888888888888,
             "#fdca26"
            ],
            [
             1.0,
             "#f0f921"
            ]
           ],
           "sequentialminus": [
            [
             0.0,
             "#0d0887"
            ],
            [
             0.1111111111111111,
             "#46039f"
            ],
            [
             0.2222222222222222,
             "#7201a8"
            ],
            [
             0.3333333333333333,
             "#9c179e"
            ],
            [
             0.4444444444444444,
             "#bd3786"
            ],
            [
             0.5555555555555556,
             "#d8576b"
            ],
            [
             0.6666666666666666,
             "#ed7953"
            ],
            [
             0.7777777777777778,
             "#fb9f3a"
            ],
            [
             0.8888888888888888,
             "#fdca26"
            ],
            [
             1.0,
             "#f0f921"
            ]
           ]
          },
          "colorway": [
           "#636efa",
           "#EF553B",
           "#00cc96",
           "#ab63fa",
           "#FFA15A",
           "#19d3f3",
           "#FF6692",
           "#B6E880",
           "#FF97FF",
           "#FECB52"
          ],
          "font": {
           "color": "#f2f5fa"
          },
          "geo": {
           "bgcolor": "rgb(17,17,17)",
           "lakecolor": "rgb(17,17,17)",
           "landcolor": "rgb(17,17,17)",
           "showlakes": true,
           "showland": true,
           "subunitcolor": "#506784"
          },
          "hoverlabel": {
           "align": "left"
          },
          "hovermode": "closest",
          "mapbox": {
           "style": "dark"
          },
          "paper_bgcolor": "rgb(17,17,17)",
          "plot_bgcolor": "rgb(17,17,17)",
          "polar": {
           "angularaxis": {
            "gridcolor": "#506784",
            "linecolor": "#506784",
            "ticks": ""
           },
           "bgcolor": "rgb(17,17,17)",
           "radialaxis": {
            "gridcolor": "#506784",
            "linecolor": "#506784",
            "ticks": ""
           }
          },
          "scene": {
           "xaxis": {
            "backgroundcolor": "rgb(17,17,17)",
            "gridcolor": "#506784",
            "gridwidth": 2,
            "linecolor": "#506784",
            "showbackground": true,
            "ticks": "",
            "zerolinecolor": "#C8D4E3"
           },
           "yaxis": {
            "backgroundcolor": "rgb(17,17,17)",
            "gridcolor": "#506784",
            "gridwidth": 2,
            "linecolor": "#506784",
            "showbackground": true,
            "ticks": "",
            "zerolinecolor": "#C8D4E3"
           },
           "zaxis": {
            "backgroundcolor": "rgb(17,17,17)",
            "gridcolor": "#506784",
            "gridwidth": 2,
            "linecolor": "#506784",
            "showbackground": true,
            "ticks": "",
            "zerolinecolor": "#C8D4E3"
           }
          },
          "shapedefaults": {
           "line": {
            "color": "#f2f5fa"
           }
          },
          "sliderdefaults": {
           "bgcolor": "#C8D4E3",
           "bordercolor": "rgb(17,17,17)",
           "borderwidth": 1,
           "tickwidth": 0
          },
          "ternary": {
           "aaxis": {
            "gridcolor": "#506784",
            "linecolor": "#506784",
            "ticks": ""
           },
           "baxis": {
            "gridcolor": "#506784",
            "linecolor": "#506784",
            "ticks": ""
           },
           "bgcolor": "rgb(17,17,17)",
           "caxis": {
            "gridcolor": "#506784",
            "linecolor": "#506784",
            "ticks": ""
           }
          },
          "title": {
           "x": 0.05
          },
          "updatemenudefaults": {
           "bgcolor": "#506784",
           "borderwidth": 0
          },
          "xaxis": {
           "automargin": true,
           "gridcolor": "#283442",
           "linecolor": "#506784",
           "ticks": "",
           "title": {
            "standoff": 15
           },
           "zerolinecolor": "#283442",
           "zerolinewidth": 2
          },
          "yaxis": {
           "automargin": true,
           "gridcolor": "#283442",
           "linecolor": "#506784",
           "ticks": "",
           "title": {
            "standoff": 15
           },
           "zerolinecolor": "#283442",
           "zerolinewidth": 2
          }
         }
        },
        "title": {
         "text": "Accuracy vs Epochs"
        },
        "xaxis": {
         "title": {
          "text": "Epochs"
         }
        },
        "yaxis": {
         "title": {
          "text": "Accuracy"
         }
        },
        "legend": {
         "title": {
          "text": "Legend"
         }
        }
       },
       "config": {
        "plotlyServerURL": "https://plot.ly"
       }
      },
      "text/html": [
       "<div>                            <div id=\"6eda1698-f58b-4284-8309-4e17862487c6\" class=\"plotly-graph-div\" style=\"height:525px; width:100%;\"></div>            <script type=\"text/javascript\">                require([\"plotly\"], function(Plotly) {                    window.PLOTLYENV=window.PLOTLYENV || {};                                    if (document.getElementById(\"6eda1698-f58b-4284-8309-4e17862487c6\")) {                    Plotly.newPlot(                        \"6eda1698-f58b-4284-8309-4e17862487c6\",                        [{\"mode\":\"lines+markers\",\"name\":\"relu - Train Accuracy\",\"x\":[0,1,2,3,4,5,6,7,8,9,10,11,12,13,14,15,16,17,18,19],\"y\":[0.3767,0.48912,0.53548,0.5732,0.6029,0.63052,0.65764,0.68586,0.71282,0.7368,0.7635,0.79094,0.81202,0.82784,0.85052,0.86716,0.88068,0.89578,0.90496,0.91692],\"type\":\"scatter\"},{\"mode\":\"lines+markers\",\"name\":\"relu - Val Accuracy\",\"x\":[0,1,2,3,4,5,6,7,8,9,10,11,12,13,14,15,16,17,18,19],\"y\":[0.4666,0.5006,0.5219,0.5348,0.5441,0.5414,0.5457,0.5513,0.5517,0.5454,0.5423,0.5472,0.5542,0.5523,0.5402,0.5555,0.5432,0.5493,0.5591,0.558],\"type\":\"scatter\"},{\"mode\":\"lines+markers\",\"name\":\"leaky_relu - Train Accuracy\",\"x\":[0,1,2,3,4,5,6,7,8,9,10,11,12,13,14,15,16,17,18,19],\"y\":[0.37628,0.48408,0.53782,0.56876,0.6004,0.62816,0.65482,0.68068,0.7099,0.73446,0.7578,0.78564,0.80944,0.8315,0.84614,0.86124,0.88292,0.89254,0.90534,0.9124],\"type\":\"scatter\"},{\"mode\":\"lines+markers\",\"name\":\"leaky_relu - Val Accuracy\",\"x\":[0,1,2,3,4,5,6,7,8,9,10,11,12,13,14,15,16,17,18,19],\"y\":[0.463,0.4984,0.5143,0.5354,0.5449,0.5472,0.5457,0.558,0.5438,0.5561,0.5468,0.5602,0.5579,0.551,0.5484,0.5487,0.5534,0.5558,0.5569,0.5526],\"type\":\"scatter\"},{\"mode\":\"lines+markers\",\"name\":\"sigmoid - Train Accuracy\",\"x\":[0,1,2,3,4,5,6,7,8,9,10,11,12,13,14,15,16,17,18,19],\"y\":[0.10814,0.17116,0.21358,0.2563,0.27988,0.30972,0.32178,0.3349,0.34204,0.34968,0.3602,0.3665,0.37626,0.38362,0.38944,0.3985,0.40708,0.41552,0.42536,0.43466],\"type\":\"scatter\"},{\"mode\":\"lines+markers\",\"name\":\"sigmoid - Val Accuracy\",\"x\":[0,1,2,3,4,5,6,7,8,9,10,11,12,13,14,15,16,17,18,19],\"y\":[0.1015,0.2195,0.2217,0.2809,0.2866,0.3137,0.3314,0.3386,0.3431,0.3459,0.3621,0.3696,0.3654,0.3808,0.3951,0.3987,0.3929,0.4122,0.4136,0.4288],\"type\":\"scatter\"},{\"mode\":\"lines+markers\",\"name\":\"tanh - Train Accuracy\",\"x\":[0,1,2,3,4,5,6,7,8,9,10,11,12,13,14,15,16,17,18,19],\"y\":[0.37448,0.42994,0.46254,0.4883,0.51408,0.53878,0.5641,0.58784,0.6177,0.6393,0.67,0.69314,0.72076,0.74348,0.76334,0.78546,0.80624,0.82792,0.84302,0.85766],\"type\":\"scatter\"},{\"mode\":\"lines+markers\",\"name\":\"tanh - Val Accuracy\",\"x\":[0,1,2,3,4,5,6,7,8,9,10,11,12,13,14,15,16,17,18,19],\"y\":[0.3974,0.4429,0.4597,0.4656,0.4719,0.4734,0.4885,0.4902,0.4679,0.4843,0.4773,0.4789,0.4851,0.4563,0.4671,0.4756,0.4734,0.4673,0.4539,0.4617],\"type\":\"scatter\"}],                        {\"template\":{\"data\":{\"barpolar\":[{\"marker\":{\"line\":{\"color\":\"rgb(17,17,17)\",\"width\":0.5},\"pattern\":{\"fillmode\":\"overlay\",\"size\":10,\"solidity\":0.2}},\"type\":\"barpolar\"}],\"bar\":[{\"error_x\":{\"color\":\"#f2f5fa\"},\"error_y\":{\"color\":\"#f2f5fa\"},\"marker\":{\"line\":{\"color\":\"rgb(17,17,17)\",\"width\":0.5},\"pattern\":{\"fillmode\":\"overlay\",\"size\":10,\"solidity\":0.2}},\"type\":\"bar\"}],\"carpet\":[{\"aaxis\":{\"endlinecolor\":\"#A2B1C6\",\"gridcolor\":\"#506784\",\"linecolor\":\"#506784\",\"minorgridcolor\":\"#506784\",\"startlinecolor\":\"#A2B1C6\"},\"baxis\":{\"endlinecolor\":\"#A2B1C6\",\"gridcolor\":\"#506784\",\"linecolor\":\"#506784\",\"minorgridcolor\":\"#506784\",\"startlinecolor\":\"#A2B1C6\"},\"type\":\"carpet\"}],\"choropleth\":[{\"colorbar\":{\"outlinewidth\":0,\"ticks\":\"\"},\"type\":\"choropleth\"}],\"contourcarpet\":[{\"colorbar\":{\"outlinewidth\":0,\"ticks\":\"\"},\"type\":\"contourcarpet\"}],\"contour\":[{\"colorbar\":{\"outlinewidth\":0,\"ticks\":\"\"},\"colorscale\":[[0.0,\"#0d0887\"],[0.1111111111111111,\"#46039f\"],[0.2222222222222222,\"#7201a8\"],[0.3333333333333333,\"#9c179e\"],[0.4444444444444444,\"#bd3786\"],[0.5555555555555556,\"#d8576b\"],[0.6666666666666666,\"#ed7953\"],[0.7777777777777778,\"#fb9f3a\"],[0.8888888888888888,\"#fdca26\"],[1.0,\"#f0f921\"]],\"type\":\"contour\"}],\"heatmapgl\":[{\"colorbar\":{\"outlinewidth\":0,\"ticks\":\"\"},\"colorscale\":[[0.0,\"#0d0887\"],[0.1111111111111111,\"#46039f\"],[0.2222222222222222,\"#7201a8\"],[0.3333333333333333,\"#9c179e\"],[0.4444444444444444,\"#bd3786\"],[0.5555555555555556,\"#d8576b\"],[0.6666666666666666,\"#ed7953\"],[0.7777777777777778,\"#fb9f3a\"],[0.8888888888888888,\"#fdca26\"],[1.0,\"#f0f921\"]],\"type\":\"heatmapgl\"}],\"heatmap\":[{\"colorbar\":{\"outlinewidth\":0,\"ticks\":\"\"},\"colorscale\":[[0.0,\"#0d0887\"],[0.1111111111111111,\"#46039f\"],[0.2222222222222222,\"#7201a8\"],[0.3333333333333333,\"#9c179e\"],[0.4444444444444444,\"#bd3786\"],[0.5555555555555556,\"#d8576b\"],[0.6666666666666666,\"#ed7953\"],[0.7777777777777778,\"#fb9f3a\"],[0.8888888888888888,\"#fdca26\"],[1.0,\"#f0f921\"]],\"type\":\"heatmap\"}],\"histogram2dcontour\":[{\"colorbar\":{\"outlinewidth\":0,\"ticks\":\"\"},\"colorscale\":[[0.0,\"#0d0887\"],[0.1111111111111111,\"#46039f\"],[0.2222222222222222,\"#7201a8\"],[0.3333333333333333,\"#9c179e\"],[0.4444444444444444,\"#bd3786\"],[0.5555555555555556,\"#d8576b\"],[0.6666666666666666,\"#ed7953\"],[0.7777777777777778,\"#fb9f3a\"],[0.8888888888888888,\"#fdca26\"],[1.0,\"#f0f921\"]],\"type\":\"histogram2dcontour\"}],\"histogram2d\":[{\"colorbar\":{\"outlinewidth\":0,\"ticks\":\"\"},\"colorscale\":[[0.0,\"#0d0887\"],[0.1111111111111111,\"#46039f\"],[0.2222222222222222,\"#7201a8\"],[0.3333333333333333,\"#9c179e\"],[0.4444444444444444,\"#bd3786\"],[0.5555555555555556,\"#d8576b\"],[0.6666666666666666,\"#ed7953\"],[0.7777777777777778,\"#fb9f3a\"],[0.8888888888888888,\"#fdca26\"],[1.0,\"#f0f921\"]],\"type\":\"histogram2d\"}],\"histogram\":[{\"marker\":{\"pattern\":{\"fillmode\":\"overlay\",\"size\":10,\"solidity\":0.2}},\"type\":\"histogram\"}],\"mesh3d\":[{\"colorbar\":{\"outlinewidth\":0,\"ticks\":\"\"},\"type\":\"mesh3d\"}],\"parcoords\":[{\"line\":{\"colorbar\":{\"outlinewidth\":0,\"ticks\":\"\"}},\"type\":\"parcoords\"}],\"pie\":[{\"automargin\":true,\"type\":\"pie\"}],\"scatter3d\":[{\"line\":{\"colorbar\":{\"outlinewidth\":0,\"ticks\":\"\"}},\"marker\":{\"colorbar\":{\"outlinewidth\":0,\"ticks\":\"\"}},\"type\":\"scatter3d\"}],\"scattercarpet\":[{\"marker\":{\"colorbar\":{\"outlinewidth\":0,\"ticks\":\"\"}},\"type\":\"scattercarpet\"}],\"scattergeo\":[{\"marker\":{\"colorbar\":{\"outlinewidth\":0,\"ticks\":\"\"}},\"type\":\"scattergeo\"}],\"scattergl\":[{\"marker\":{\"line\":{\"color\":\"#283442\"}},\"type\":\"scattergl\"}],\"scattermapbox\":[{\"marker\":{\"colorbar\":{\"outlinewidth\":0,\"ticks\":\"\"}},\"type\":\"scattermapbox\"}],\"scatterpolargl\":[{\"marker\":{\"colorbar\":{\"outlinewidth\":0,\"ticks\":\"\"}},\"type\":\"scatterpolargl\"}],\"scatterpolar\":[{\"marker\":{\"colorbar\":{\"outlinewidth\":0,\"ticks\":\"\"}},\"type\":\"scatterpolar\"}],\"scatter\":[{\"marker\":{\"line\":{\"color\":\"#283442\"}},\"type\":\"scatter\"}],\"scatterternary\":[{\"marker\":{\"colorbar\":{\"outlinewidth\":0,\"ticks\":\"\"}},\"type\":\"scatterternary\"}],\"surface\":[{\"colorbar\":{\"outlinewidth\":0,\"ticks\":\"\"},\"colorscale\":[[0.0,\"#0d0887\"],[0.1111111111111111,\"#46039f\"],[0.2222222222222222,\"#7201a8\"],[0.3333333333333333,\"#9c179e\"],[0.4444444444444444,\"#bd3786\"],[0.5555555555555556,\"#d8576b\"],[0.6666666666666666,\"#ed7953\"],[0.7777777777777778,\"#fb9f3a\"],[0.8888888888888888,\"#fdca26\"],[1.0,\"#f0f921\"]],\"type\":\"surface\"}],\"table\":[{\"cells\":{\"fill\":{\"color\":\"#506784\"},\"line\":{\"color\":\"rgb(17,17,17)\"}},\"header\":{\"fill\":{\"color\":\"#2a3f5f\"},\"line\":{\"color\":\"rgb(17,17,17)\"}},\"type\":\"table\"}]},\"layout\":{\"annotationdefaults\":{\"arrowcolor\":\"#f2f5fa\",\"arrowhead\":0,\"arrowwidth\":1},\"autotypenumbers\":\"strict\",\"coloraxis\":{\"colorbar\":{\"outlinewidth\":0,\"ticks\":\"\"}},\"colorscale\":{\"diverging\":[[0,\"#8e0152\"],[0.1,\"#c51b7d\"],[0.2,\"#de77ae\"],[0.3,\"#f1b6da\"],[0.4,\"#fde0ef\"],[0.5,\"#f7f7f7\"],[0.6,\"#e6f5d0\"],[0.7,\"#b8e186\"],[0.8,\"#7fbc41\"],[0.9,\"#4d9221\"],[1,\"#276419\"]],\"sequential\":[[0.0,\"#0d0887\"],[0.1111111111111111,\"#46039f\"],[0.2222222222222222,\"#7201a8\"],[0.3333333333333333,\"#9c179e\"],[0.4444444444444444,\"#bd3786\"],[0.5555555555555556,\"#d8576b\"],[0.6666666666666666,\"#ed7953\"],[0.7777777777777778,\"#fb9f3a\"],[0.8888888888888888,\"#fdca26\"],[1.0,\"#f0f921\"]],\"sequentialminus\":[[0.0,\"#0d0887\"],[0.1111111111111111,\"#46039f\"],[0.2222222222222222,\"#7201a8\"],[0.3333333333333333,\"#9c179e\"],[0.4444444444444444,\"#bd3786\"],[0.5555555555555556,\"#d8576b\"],[0.6666666666666666,\"#ed7953\"],[0.7777777777777778,\"#fb9f3a\"],[0.8888888888888888,\"#fdca26\"],[1.0,\"#f0f921\"]]},\"colorway\":[\"#636efa\",\"#EF553B\",\"#00cc96\",\"#ab63fa\",\"#FFA15A\",\"#19d3f3\",\"#FF6692\",\"#B6E880\",\"#FF97FF\",\"#FECB52\"],\"font\":{\"color\":\"#f2f5fa\"},\"geo\":{\"bgcolor\":\"rgb(17,17,17)\",\"lakecolor\":\"rgb(17,17,17)\",\"landcolor\":\"rgb(17,17,17)\",\"showlakes\":true,\"showland\":true,\"subunitcolor\":\"#506784\"},\"hoverlabel\":{\"align\":\"left\"},\"hovermode\":\"closest\",\"mapbox\":{\"style\":\"dark\"},\"paper_bgcolor\":\"rgb(17,17,17)\",\"plot_bgcolor\":\"rgb(17,17,17)\",\"polar\":{\"angularaxis\":{\"gridcolor\":\"#506784\",\"linecolor\":\"#506784\",\"ticks\":\"\"},\"bgcolor\":\"rgb(17,17,17)\",\"radialaxis\":{\"gridcolor\":\"#506784\",\"linecolor\":\"#506784\",\"ticks\":\"\"}},\"scene\":{\"xaxis\":{\"backgroundcolor\":\"rgb(17,17,17)\",\"gridcolor\":\"#506784\",\"gridwidth\":2,\"linecolor\":\"#506784\",\"showbackground\":true,\"ticks\":\"\",\"zerolinecolor\":\"#C8D4E3\"},\"yaxis\":{\"backgroundcolor\":\"rgb(17,17,17)\",\"gridcolor\":\"#506784\",\"gridwidth\":2,\"linecolor\":\"#506784\",\"showbackground\":true,\"ticks\":\"\",\"zerolinecolor\":\"#C8D4E3\"},\"zaxis\":{\"backgroundcolor\":\"rgb(17,17,17)\",\"gridcolor\":\"#506784\",\"gridwidth\":2,\"linecolor\":\"#506784\",\"showbackground\":true,\"ticks\":\"\",\"zerolinecolor\":\"#C8D4E3\"}},\"shapedefaults\":{\"line\":{\"color\":\"#f2f5fa\"}},\"sliderdefaults\":{\"bgcolor\":\"#C8D4E3\",\"bordercolor\":\"rgb(17,17,17)\",\"borderwidth\":1,\"tickwidth\":0},\"ternary\":{\"aaxis\":{\"gridcolor\":\"#506784\",\"linecolor\":\"#506784\",\"ticks\":\"\"},\"baxis\":{\"gridcolor\":\"#506784\",\"linecolor\":\"#506784\",\"ticks\":\"\"},\"bgcolor\":\"rgb(17,17,17)\",\"caxis\":{\"gridcolor\":\"#506784\",\"linecolor\":\"#506784\",\"ticks\":\"\"}},\"title\":{\"x\":0.05},\"updatemenudefaults\":{\"bgcolor\":\"#506784\",\"borderwidth\":0},\"xaxis\":{\"automargin\":true,\"gridcolor\":\"#283442\",\"linecolor\":\"#506784\",\"ticks\":\"\",\"title\":{\"standoff\":15},\"zerolinecolor\":\"#283442\",\"zerolinewidth\":2},\"yaxis\":{\"automargin\":true,\"gridcolor\":\"#283442\",\"linecolor\":\"#506784\",\"ticks\":\"\",\"title\":{\"standoff\":15},\"zerolinecolor\":\"#283442\",\"zerolinewidth\":2}}},\"title\":{\"text\":\"Accuracy vs Epochs\"},\"xaxis\":{\"title\":{\"text\":\"Epochs\"}},\"yaxis\":{\"title\":{\"text\":\"Accuracy\"}},\"legend\":{\"title\":{\"text\":\"Legend\"}}},                        {\"responsive\": true}                    ).then(function(){\n",
       "                            \n",
       "var gd = document.getElementById('6eda1698-f58b-4284-8309-4e17862487c6');\n",
       "var x = new MutationObserver(function (mutations, observer) {{\n",
       "        var display = window.getComputedStyle(gd).display;\n",
       "        if (!display || display === 'none') {{\n",
       "            console.log([gd, 'removed!']);\n",
       "            Plotly.purge(gd);\n",
       "            observer.disconnect();\n",
       "        }}\n",
       "}});\n",
       "\n",
       "// Listen for the removal of the full notebook cells\n",
       "var notebookContainer = gd.closest('#notebook-container');\n",
       "if (notebookContainer) {{\n",
       "    x.observe(notebookContainer, {childList: true});\n",
       "}}\n",
       "\n",
       "// Listen for the clearing of the current output cell\n",
       "var outputEl = gd.closest('.output');\n",
       "if (outputEl) {{\n",
       "    x.observe(outputEl, {childList: true});\n",
       "}}\n",
       "\n",
       "                        })                };                });            </script>        </div>"
      ]
     },
     "metadata": {},
     "output_type": "display_data"
    }
   ],
   "execution_count": 21
  },
  {
   "metadata": {},
   "cell_type": "code",
   "outputs": [],
   "execution_count": null,
   "source": "",
   "id": "d3fa0c37ba354ca4"
  }
 ],
 "metadata": {
  "kernelspec": {
   "display_name": "Python 3",
   "language": "python",
   "name": "python3"
  },
  "language_info": {
   "codemirror_mode": {
    "name": "ipython",
    "version": 2
   },
   "file_extension": ".py",
   "mimetype": "text/x-python",
   "name": "python",
   "nbconvert_exporter": "python",
   "pygments_lexer": "ipython2",
   "version": "2.7.6"
  }
 },
 "nbformat": 4,
 "nbformat_minor": 5
}
